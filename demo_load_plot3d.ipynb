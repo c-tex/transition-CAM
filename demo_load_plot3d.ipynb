{
 "cells": [
  {
   "cell_type": "code",
   "execution_count": 2,
   "metadata": {},
   "outputs": [],
   "source": [
    "import numpy as np\n",
    "from tribarmes import TriangleBarMesh"
   ]
  },
  {
   "cell_type": "code",
   "execution_count": 16,
   "metadata": {},
   "outputs": [],
   "source": [
    "fname = \"stlsamples/frameguide.stl\"\n",
    "#fname = \"stlsamples/onshapetestpart.stl\"\n",
    "tbm = TriangleBarMesh(fname)\n",
    "vs = tbm.GetBarMeshTriangles()\n",
    "\n",
    "# quickly make these as independent triangles\n",
    "vv = np.array(vs).ravel()\n",
    "X, Y, Z = vv[0::3], vv[1::3], vv[2::3]\n",
    "tris = np.array(range(len(vs)*3))\n",
    "tris.resize((len(vs), 3))\n"
   ]
  },
  {
   "cell_type": "code",
   "execution_count": 17,
   "metadata": {},
   "outputs": [],
   "source": [
    "# define a cutter shape\n",
    "cornerrad, flatrad, shaftheight = 5, 1, 38\n",
    "px, py, pz = 20, -20, 0\n",
    "\n",
    "tr = np.linspace(0, cornerrad+1, cornerrad*10+1)\n",
    "theta = np.linspace(0, 2*np.pi, 40)\n",
    "tr, theta = np.meshgrid(tr, theta)\n",
    "def toolheight(tr):\n",
    "    return cornerrad - np.sqrt(np.maximum(0, cornerrad**2 - tr**2)) + \\\n",
    "                       np.maximum(0, (tr-cornerrad)*(shaftheight))\n",
    "tX = np.minimum(tr+flatrad, cornerrad+flatrad) * np.sin(theta)\n",
    "tY = np.minimum(tr+flatrad, cornerrad+flatrad) * np.cos(theta)\n",
    "tZ = toolheight(tr)\n",
    "\n",
    "from matplotlib.tri import Triangulation\n",
    "ttri = Triangulation(np.ravel(tr), np.ravel(theta))\n",
    "ttris = ttri.triangles\n",
    "    "
   ]
  },
  {
   "cell_type": "code",
   "execution_count": 14,
   "metadata": {},
   "outputs": [
    {
     "name": "stdout",
     "output_type": "stream",
     "text": [
      "(52.15934314565082, -27.55988551614986, 1.6641985619143262)\n"
     ]
    },
    {
     "data": {
      "application/vnd.jupyter.widget-view+json": {
       "model_id": "c180b16b0e3743188b82d5e88ca90a7a",
       "version_major": 2,
       "version_minor": 0
      },
      "text/plain": [
       "VBox(children=(Figure(camera=PerspectiveCamera(fov=46.0, position=(1.1651197040374404, -0.7699838419344982, 0.…"
      ]
     },
     "metadata": {},
     "output_type": "display_data"
    }
   ],
   "source": [
    "import ipyvolume as ipv\n",
    "\n",
    "def rendersurftool(px, py):\n",
    "    k = ipv.view()\n",
    "    print(k)\n",
    "    ipv.figure()\n",
    "    ipv.xyzlim(-40,40)\n",
    "    mesh = ipv.plot_trisurf(X, Y, Z, triangles=tris, color='orange')\n",
    "    ipv.plot_trisurf(tX.ravel()+px, tY.ravel()+py, tZ.ravel()+pz, triangles=ttris, color=\"red\")\n",
    "    ipv.view(*k)\n",
    "    ipv.show()\n",
    "\n",
    "rendersurftool(20, -20)\n",
    "#ipv.save(\"/home/julian/repositories/transition-CAM/thing.html\", offline=True)\n"
   ]
  },
  {
   "cell_type": "code",
   "execution_count": 10,
   "metadata": {},
   "outputs": [
    {
     "data": {
      "application/vnd.jupyter.widget-view+json": {
       "model_id": "8a077c9e793647e1bfd9eab1536c7795",
       "version_major": 2,
       "version_minor": 0
      },
      "text/plain": [
       "HBox(children=(FloatSlider(value=20.0, continuous_update=False, description='xpos', max=50.0, min=-50.0, step=…"
      ]
     },
     "metadata": {},
     "output_type": "display_data"
    },
    {
     "data": {
      "application/vnd.jupyter.widget-view+json": {
       "model_id": "5dd74f8c45174a69be067f4b6a3c2e08",
       "version_major": 2,
       "version_minor": 0
      },
      "text/plain": [
       "Output()"
      ]
     },
     "metadata": {},
     "output_type": "display_data"
    }
   ],
   "source": [
    "from ipywidgets import FloatSlider, interact, HBox, interactive_output\n",
    "\n",
    "fsx = FloatSlider(value=20, min=-50, max=50, step=1, description=\"xpos\", continuous_update=False)\n",
    "fsy = FloatSlider(value=-20, min=-50, max=50, step=1, description=\"ypos\", continuous_update=False)\n",
    "\n",
    "out = interactive_output(rendersurftool, {\"px\":fsx, \"py\":fsy})\n",
    "display(HBox([fsx, fsy]), out)\n"
   ]
  },
  {
   "cell_type": "code",
   "execution_count": 17,
   "metadata": {},
   "outputs": [
    {
     "data": {
      "application/vnd.jupyter.widget-view+json": {
       "model_id": "e31ee2ab0bd84fd3a682f2abfdab0fd3",
       "version_major": 2,
       "version_minor": 0
      },
      "text/plain": [
       "VBox(children=(VBox(children=(Figure(camera=PerspectiveCamera(fov=46.0, position=(0.0, 0.0, 2.0), quaternion=(…"
      ]
     },
     "metadata": {},
     "output_type": "display_data"
    }
   ],
   "source": [
    "import ipyvolume as ipv\n",
    "import numpy as np\n",
    "x, y, z, u, v, w = np.random.random((6, 1000))*2-1\n",
    "selected = np.random.randint(0, 1000, 100)\n",
    "ipv.figure()\n",
    "quiver = ipv.quiver(x, y, z, u, v, w, size=5, size_selected=8, selected=selected)\n",
    "\n",
    "from ipywidgets import FloatSlider, ColorPicker, VBox, jslink\n",
    "size = FloatSlider(min=0, max=30, step=0.1)\n",
    "size_selected = FloatSlider(min=0, max=30, step=0.1)\n",
    "color = ColorPicker()\n",
    "color_selected = ColorPicker()\n",
    "jslink((quiver, 'size'), (size, 'value'))\n",
    "jslink((quiver, 'size_selected'), (size_selected, 'value'))\n",
    "jslink((quiver, 'color'), (color, 'value'))\n",
    "jslink((quiver, 'color_selected'), (color_selected, 'value'))\n",
    "VBox([ipv.gcc(), size, size_selected, color, color_selected])"
   ]
  },
  {
   "cell_type": "code",
   "execution_count": null,
   "metadata": {},
   "outputs": [],
   "source": []
  }
 ],
 "metadata": {
  "kernelspec": {
   "display_name": "Python 3",
   "language": "python",
   "name": "python3"
  },
  "language_info": {
   "codemirror_mode": {
    "name": "ipython",
    "version": 3
   },
   "file_extension": ".py",
   "mimetype": "text/x-python",
   "name": "python",
   "nbconvert_exporter": "python",
   "pygments_lexer": "ipython3",
   "version": "3.7.0"
  }
 },
 "nbformat": 4,
 "nbformat_minor": 2
}
