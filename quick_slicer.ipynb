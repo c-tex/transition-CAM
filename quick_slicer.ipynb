{
 "cells": [
  {
   "cell_type": "code",
   "execution_count": 1,
   "metadata": {},
   "outputs": [
    {
     "name": "stdout",
     "output_type": "stream",
     "text": [
      "make triangle boxing at 0.4800000000000001\n"
     ]
    }
   ],
   "source": [
    "from tribarmes import TriangleBarMesh, MakeTriangleBoxing\n",
    "\n",
    "stlfile = \"stlsamples/onshapetestpart.stl\"\n",
    "stlfile = \"stlsamples/frameguide.stl\"\n",
    "\n",
    "tbarmesh = TriangleBarMesh(stlfile)\n",
    "tboxing = MakeTriangleBoxing(tbarmesh)\n"
   ]
  },
  {
   "cell_type": "code",
   "execution_count": 2,
   "metadata": {},
   "outputs": [],
   "source": [
    "from implicitareas import implicitareaballoffset\n",
    "iaoffset = implicitareaballoffset.ImplicitAreaBallOffset(tboxing)\n"
   ]
  },
  {
   "cell_type": "code",
   "execution_count": 3,
   "metadata": {},
   "outputs": [],
   "source": [
    "from basicgeo import P2, P3, Partition1\n",
    "\n",
    "nslices = 10\n",
    "rad = 4\n",
    "\n",
    "rex = rad + 2.5\n",
    "xpart = Partition1(tbarmesh.xlo-rex, tbarmesh.xhi+rex, 145)\n",
    "ypart = Partition1(tbarmesh.ylo-rex, tbarmesh.yhi+rex, 137)\n",
    "zlevels = [ ]\n",
    "for i in range(0, nslices):\n",
    "    lam = (i+0.5)/nslices\n",
    "    zlevels.append((tbarmesh.zlo-rad)*(1 - lam) + (tbarmesh.zhi+rad)*lam)\n",
    "zlevels.reverse()"
   ]
  },
  {
   "cell_type": "code",
   "execution_count": 4,
   "metadata": {},
   "outputs": [
    {
     "name": "stdout",
     "output_type": "stream",
     "text": [
      "z:42.550 pztime:41.530/20148 cbtime:3.011/296 remains: 1.519240\n",
      "z:37.650 pztime:52.341/20148 cbtime:1.586/328 remains: 0.743410\n",
      "z:32.750 pztime:39.281/20188 cbtime:3.920/778 remains: 1.907543\n",
      "z:27.850 pztime:39.593/20188 cbtime:4.187/838 remains: 1.968975\n",
      "z:22.950 pztime:42.366/20272 cbtime:10.310/1419 remains: 4.394143\n",
      "z:18.050 pztime:39.816/20244 cbtime:6.549/1348 remains: 2.852328\n",
      "z:13.150 pztime:44.552/20296 cbtime:8.920/1554 remains: 3.933567\n",
      "z:8.250 pztime:43.567/20296 cbtime:8.465/1508 remains: 3.513490\n",
      "z:3.350 pztime:47.177/20224 cbtime:4.265/820 remains: 2.176658\n",
      "z:-1.550 pztime:40.765/20176 cbtime:3.577/784 remains: 1.594749\n"
     ]
    }
   ],
   "source": [
    "import barmesh, mainfunctions\n",
    "from barmeshslicer import BarMeshSlicer\n",
    "\n",
    "zcontours = [ ]\n",
    "for z in zlevels:\n",
    "    bm = barmesh.BarMesh()\n",
    "    bm.BuildRectBarMesh(xpart, ypart, z)\n",
    "    rd2 = max(xpart.vs[1]-xpart.vs[0], ypart.vs[1]-ypart.vs[0], rad*1.5) + 0.1\n",
    "    bms = BarMeshSlicer(bm, iaoffset, rd=rad, rd2=rd2, contourdotdiff=0.95, contourdelta=0.05, lamendgap=0.001)\n",
    "    bms.initializecutsanddistances()\n",
    "    currentcolour = -1\n",
    "    ncount = 0\n",
    "    while bms.barpolycuts:\n",
    "        currentcolour += 1\n",
    "        if currentcolour > bm.maxcellcolour:\n",
    "            currentcolour = 0\n",
    "        bms.splitbarpolyscolour(currentcolour)\n",
    "        ncount += 1\n",
    "        if ncount == 80:\n",
    "            break\n",
    "        if 0:\n",
    "            print(\"ncount\", ncount, currentcolour, len(bms.barpolycuts)) \n",
    "\n",
    "    if 1:\n",
    "        print(\"z:%.3f pztime:%.3f/%d cbtime:%.3f/%d remains: %3f\" % (z, bms.pztime, bms.pzcalls, bms.cbtime+bms.cbztime, bms.cbcalls, (bms.totalproctime - bms.pztime - bms.cbtime)))\n",
    "\n",
    "    contours, contbars = mainfunctions.BarMeshContoursF(bm, barmesh.PZ_BEYOND_R)\n",
    "    zcontours.append([z, contours])\n"
   ]
  },
  {
   "cell_type": "code",
   "execution_count": null,
   "metadata": {},
   "outputs": [],
   "source": []
  },
  {
   "cell_type": "code",
   "execution_count": null,
   "metadata": {},
   "outputs": [],
   "source": []
  },
  {
   "cell_type": "code",
   "execution_count": 9,
   "metadata": {},
   "outputs": [
    {
     "ename": "AttributeError",
     "evalue": "module 'mainfunctions' has no attribute 'set_aspect_equal_3d'",
     "output_type": "error",
     "traceback": [
      "\u001b[0;31m---------------------------------------------------------------------------\u001b[0m",
      "\u001b[0;31mAttributeError\u001b[0m                            Traceback (most recent call last)",
      "\u001b[0;32m<ipython-input-9-0ef0b2595180>\u001b[0m in \u001b[0;36m<module>\u001b[0;34m()\u001b[0m\n\u001b[1;32m      2\u001b[0m \u001b[0;34m\u001b[0m\u001b[0m\n\u001b[1;32m      3\u001b[0m \u001b[0;31m#ax = plottriangles(tbarmesh)\u001b[0m\u001b[0;34m\u001b[0m\u001b[0;34m\u001b[0m\u001b[0m\n\u001b[0;32m----> 4\u001b[0;31m \u001b[0mmainfunctions\u001b[0m\u001b[0;34m.\u001b[0m\u001b[0mset_aspect_equal_3d\u001b[0m\u001b[0;34m(\u001b[0m\u001b[0;34m)\u001b[0m\u001b[0;34m\u001b[0m\u001b[0m\n\u001b[0m\u001b[1;32m      5\u001b[0m \u001b[0;32mfor\u001b[0m \u001b[0mz\u001b[0m\u001b[0;34m,\u001b[0m \u001b[0mcontours\u001b[0m \u001b[0;32min\u001b[0m \u001b[0mzcontours\u001b[0m\u001b[0;34m:\u001b[0m\u001b[0;34m\u001b[0m\u001b[0m\n\u001b[1;32m      6\u001b[0m     \u001b[0;32mfor\u001b[0m \u001b[0mcont\u001b[0m \u001b[0;32min\u001b[0m \u001b[0mcontours\u001b[0m\u001b[0;34m:\u001b[0m\u001b[0;34m\u001b[0m\u001b[0m\n",
      "\u001b[0;31mAttributeError\u001b[0m: module 'mainfunctions' has no attribute 'set_aspect_equal_3d'"
     ]
    }
   ],
   "source": [
    "%matplotlib inline \n",
    "\n",
    "ax = plottriangles(tbarmesh)\n",
    "mainfunctions.set_aspect_equal_3d()\n",
    "for z, contours in zcontours:\n",
    "    for cont in contours:\n",
    "        ax.plot([p.x  for p in cont], [p.y  for p in cont], [z]*len(cont), color='red')\n"
   ]
  },
  {
   "cell_type": "code",
   "execution_count": null,
   "metadata": {},
   "outputs": [],
   "source": []
  },
  {
   "cell_type": "code",
   "execution_count": null,
   "metadata": {},
   "outputs": [],
   "source": [
    "# Do using ipyvolume\n",
    "import ipyvolume as ipv\n",
    "import numpy as np\n",
    "\n",
    "# quickly make these as independent triangles\n",
    "vs = tbarmesh.GetBarMeshTriangles()\n",
    "vv = np.array(vs).ravel()\n",
    "X, Y, Z = vv[0::3], vv[1::3], vv[2::3]\n",
    "tris = np.array(range(len(vs)*3))\n",
    "tris.resize((len(vs), 3))\n"
   ]
  },
  {
   "cell_type": "code",
   "execution_count": null,
   "metadata": {},
   "outputs": [],
   "source": [
    "ipv.figure()\n",
    "ipv.plot_trisurf(X, Y, Z, triangles=tris, color='cyan')\n",
    "for z, contours in zcontours:\n",
    "    for cont in contours:\n",
    "        ipv.plot(np.array([p.x  for p in cont]), np.array([p.y  for p in cont]), np.array([p.z  for p in cont]), color=\"red\")\n",
    "ipv.xyzlim(-40,40)\n",
    "ipv.show()\n"
   ]
  },
  {
   "cell_type": "code",
   "execution_count": null,
   "metadata": {},
   "outputs": [],
   "source": []
  }
 ],
 "metadata": {
  "kernelspec": {
   "display_name": "Python 3",
   "language": "python",
   "name": "python3"
  },
  "language_info": {
   "codemirror_mode": {
    "name": "ipython",
    "version": 3
   },
   "file_extension": ".py",
   "mimetype": "text/x-python",
   "name": "python",
   "nbconvert_exporter": "python",
   "pygments_lexer": "ipython3",
   "version": "3.7.0"
  }
 },
 "nbformat": 4,
 "nbformat_minor": 2
}
