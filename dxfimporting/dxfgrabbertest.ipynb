{
 "cells": [
  {
   "cell_type": "code",
   "execution_count": 65,
   "metadata": {},
   "outputs": [
    {
     "ename": "SyntaxError",
     "evalue": "invalid syntax (<ipython-input-65-ffb80bb27357>, line 3)",
     "output_type": "error",
     "traceback": [
      "\u001b[0;36m  File \u001b[0;32m\"<ipython-input-65-ffb80bb27357>\"\u001b[0;36m, line \u001b[0;32m3\u001b[0m\n\u001b[0;31m    home(/julian/data/freecad/SAMPLE, DXF, FILES/backhoe.dxf)\u001b[0m\n\u001b[0m         ^\u001b[0m\n\u001b[0;31mSyntaxError\u001b[0m\u001b[0;31m:\u001b[0m invalid syntax\n"
     ]
    }
   ],
   "source": [
    "import dxfgrabber, math\n",
    "fname = \"/home/julian/repositories/dxf2svg/examples/2Rio 15 TSR-TSM Master-01.dxf\"\n",
    "\n",
    "d = dxfgrabber.readfile(fname)\n"
   ]
  },
  {
   "cell_type": "code",
   "execution_count": 5,
   "metadata": {},
   "outputs": [
    {
     "data": {
      "text/plain": [
       "<dxfgrabber.dxfentities.Line at 0x7fd194e50320>"
      ]
     },
     "execution_count": 5,
     "metadata": {},
     "output_type": "execute_result"
    }
   ],
   "source": [
    "es = list(d.entities)\n",
    "es[3]"
   ]
  },
  {
   "cell_type": "code",
   "execution_count": 6,
   "metadata": {},
   "outputs": [
    {
     "data": {
      "text/plain": [
       "'0'"
      ]
     },
     "execution_count": 6,
     "metadata": {},
     "output_type": "execute_result"
    }
   ],
   "source": [
    "es[3].layer"
   ]
  },
  {
   "cell_type": "code",
   "execution_count": 10,
   "metadata": {},
   "outputs": [
    {
     "data": {
      "text/plain": [
       "'0'"
      ]
     },
     "execution_count": 10,
     "metadata": {},
     "output_type": "execute_result"
    }
   ],
   "source": [
    "list(d.layers)[0].name"
   ]
  },
  {
   "cell_type": "code",
   "execution_count": 66,
   "metadata": {},
   "outputs": [],
   "source": [
    "fname = \"/home/julian/data/freecad/SAMPLE DXF FILES/backhoe.dxf\"\n",
    "import ezdxf\n",
    "fname = \"/home/julian/data/freecad/SAMPLE DXF FILES/A_000217.dxf\"\n",
    "fname = \"/home/julian/data/freecad/podshapes/Pod-classic_1.dxf\"\n",
    "d = ezdxf.readfile(fname)"
   ]
  },
  {
   "cell_type": "code",
   "execution_count": 67,
   "metadata": {},
   "outputs": [
    {
     "data": {
      "text/plain": [
       "{'INSERT'}"
      ]
     },
     "execution_count": 67,
     "metadata": {},
     "output_type": "execute_result"
    }
   ],
   "source": [
    "list(d.layers)\n",
    "set([e.dxftype()  for e in d.entities])\n",
    "k = d.blocks[e.dxf.name]\n",
    "list(k)\n"
   ]
  },
  {
   "cell_type": "code",
   "execution_count": 68,
   "metadata": {},
   "outputs": [
    {
     "data": {
      "text/plain": [
       "<class 'ezdxf.modern.insert.Insert'> INSERT(#4C)"
      ]
     },
     "execution_count": 68,
     "metadata": {},
     "output_type": "execute_result"
    }
   ],
   "source": [
    "e = list(d.entities)[0]\n",
    "e"
   ]
  },
  {
   "cell_type": "code",
   "execution_count": 29,
   "metadata": {},
   "outputs": [
    {
     "data": {
      "text/plain": [
       "dict_keys(['handle', 'owner', 'paperspace', 'layer', 'linetype', 'lineweight', 'ltscale', 'invisible', 'color', 'true_color', 'color_name', 'transparency', 'shadow_mode', 'attribs_follow', 'name', 'insert', 'xscale', 'yscale', 'zscale', 'rotation', 'column_count', 'row_count', 'column_spacing', 'row_spacing', 'extrusion'])"
      ]
     },
     "execution_count": 29,
     "metadata": {},
     "output_type": "execute_result"
    }
   ],
   "source": [
    "e.DXFATTRIBS.keys()"
   ]
  },
  {
   "cell_type": "code",
   "execution_count": 78,
   "metadata": {},
   "outputs": [
    {
     "data": {
      "text/plain": [
       "250"
      ]
     },
     "execution_count": 78,
     "metadata": {},
     "output_type": "execute_result"
    }
   ],
   "source": [
    "e.dxf.insert\n",
    "d.layers.get(e.dxf.layer).get_color()"
   ]
  },
  {
   "cell_type": "code",
   "execution_count": 37,
   "metadata": {},
   "outputs": [
    {
     "name": "stdout",
     "output_type": "stream",
     "text": [
      "['CLASS', 'DXFATTRIBS', 'TEMPLATE', '__class__', '__copy__', '__delattr__', '__dir__', '__doc__', '__eq__', '__format__', '__ge__', '__getattribute__', '__gt__', '__hash__', '__init__', '__init_subclass__', '__le__', '__lt__', '__module__', '__ne__', '__new__', '__reduce__', '__reduce_ex__', '__repr__', '__setattr__', '__sizeof__', '__slots__', '__str__', '__subclasshook__', '_append_attrib_entity', '_fix_attribs', '_get_dxfattr_definition', '_new_entity', 'add_attrib', 'append_reactor_handle', 'attribs', 'audit', 'clone_dxf_attribs', 'copy', 'copy_to_layout', 'del_dxf_attrib', 'delete_all_attribs', 'delete_attrib', 'destroy', 'drawing', 'dxf', 'dxf_attrib_exists', 'dxfattribs', 'dxffactory', 'dxftype', 'entitydb', 'get_app_data', 'get_attrib', 'get_attrib_text', 'get_dxf_attrib', 'get_dxf_default_value', 'get_extension_dict', 'get_flag_state', 'get_layout', 'get_reactors', 'get_xdata', 'grid', 'has_app_data', 'has_attrib', 'has_dxf_default_value', 'has_embedded_objects', 'has_extension_dict', 'has_reactors', 'has_xdata', 'linked_entities', 'move_to_layout', 'new', 'new_extension_dict', 'ocs', 'place', 'post_new_hook', 'remove_reactor_handle', 'rgb', 'set_app_data', 'set_dxf_attrib', 'set_flag_state', 'set_reactors', 'set_xdata', 'supports_dxf_attrib', 'tags', 'transparency', 'update_dxf_attribs', 'valid_dxf_attrib_names']\n"
     ]
    }
   ],
   "source": [
    "print(list(dir(e)))"
   ]
  },
  {
   "cell_type": "code",
   "execution_count": 70,
   "metadata": {},
   "outputs": [
    {
     "name": "stdout",
     "output_type": "stream",
     "text": [
      "INSERT(#4C)\n",
      "INSERT(#4D)\n",
      "INSERT(#4E)\n"
     ]
    }
   ],
   "source": [
    "for e in list(d.entities):\n",
    "    print(e)\n"
   ]
  },
  {
   "cell_type": "code",
   "execution_count": 76,
   "metadata": {},
   "outputs": [
    {
     "data": {
      "text/plain": [
       "[<class 'ezdxf.modern.lwpolyline.LWPolyline'> LWPOLYLINE(#49),\n",
       " <class 'ezdxf.modern.lwpolyline.LWPolyline'> LWPOLYLINE(#4A),\n",
       " <class 'ezdxf.modern.graphics.Line'> LINE(#4B)]"
      ]
     },
     "execution_count": 76,
     "metadata": {},
     "output_type": "execute_result"
    }
   ],
   "source": [
    "#list(d.blocks[e.name])\n",
    "k = d.blocks[e.dxf.name]\n",
    "list(k)\n",
    "\n"
   ]
  },
  {
   "cell_type": "code",
   "execution_count": 20,
   "metadata": {},
   "outputs": [
    {
     "data": {
      "text/plain": [
       "['CLASS',\n",
       " 'DXFATTRIBS',\n",
       " 'TEMPLATE',\n",
       " '__class__',\n",
       " '__copy__',\n",
       " '__delattr__',\n",
       " '__dir__',\n",
       " '__doc__',\n",
       " '__eq__',\n",
       " '__format__',\n",
       " '__ge__',\n",
       " '__getattribute__',\n",
       " '__gt__',\n",
       " '__hash__',\n",
       " '__init__',\n",
       " '__init_subclass__',\n",
       " '__le__',\n",
       " '__lt__',\n",
       " '__module__',\n",
       " '__ne__',\n",
       " '__new__',\n",
       " '__reduce__',\n",
       " '__reduce_ex__',\n",
       " '__repr__',\n",
       " '__setattr__',\n",
       " '__sizeof__',\n",
       " '__slots__',\n",
       " '__str__',\n",
       " '__subclasshook__',\n",
       " '_append_attrib_entity',\n",
       " '_fix_attribs',\n",
       " '_get_dxfattr_definition',\n",
       " '_new_entity',\n",
       " 'add_attrib',\n",
       " 'append_reactor_handle',\n",
       " 'attribs',\n",
       " 'audit',\n",
       " 'clone_dxf_attribs',\n",
       " 'copy',\n",
       " 'copy_to_layout',\n",
       " 'del_dxf_attrib',\n",
       " 'delete_all_attribs',\n",
       " 'delete_attrib',\n",
       " 'destroy',\n",
       " 'drawing',\n",
       " 'dxf',\n",
       " 'dxf_attrib_exists',\n",
       " 'dxfattribs',\n",
       " 'dxffactory',\n",
       " 'dxftype',\n",
       " 'entitydb',\n",
       " 'get_app_data',\n",
       " 'get_attrib',\n",
       " 'get_attrib_text',\n",
       " 'get_dxf_attrib',\n",
       " 'get_dxf_default_value',\n",
       " 'get_extension_dict',\n",
       " 'get_flag_state',\n",
       " 'get_layout',\n",
       " 'get_reactors',\n",
       " 'get_xdata',\n",
       " 'grid',\n",
       " 'has_app_data',\n",
       " 'has_attrib',\n",
       " 'has_dxf_default_value',\n",
       " 'has_embedded_objects',\n",
       " 'has_extension_dict',\n",
       " 'has_reactors',\n",
       " 'has_xdata',\n",
       " 'linked_entities',\n",
       " 'move_to_layout',\n",
       " 'new',\n",
       " 'new_extension_dict',\n",
       " 'ocs',\n",
       " 'place',\n",
       " 'post_new_hook',\n",
       " 'remove_reactor_handle',\n",
       " 'rgb',\n",
       " 'set_app_data',\n",
       " 'set_dxf_attrib',\n",
       " 'set_flag_state',\n",
       " 'set_reactors',\n",
       " 'set_xdata',\n",
       " 'supports_dxf_attrib',\n",
       " 'tags',\n",
       " 'transparency',\n",
       " 'update_dxf_attribs',\n",
       " 'valid_dxf_attrib_names']"
      ]
     },
     "execution_count": 20,
     "metadata": {},
     "output_type": "execute_result"
    }
   ],
   "source": [
    "dir(e)\n",
    "    col = layercol.get(e.layer, 'black')\n",
    "    grec = SVG_G.format(layername=layername, translate=(e.insert[0], -e.insert[1]), rotate=-e.rotation, scale=e.scale, stroke=col)\n",
    "    print(\"blockscale\", grec)\n",
    "    fwrite(grec)\n",
    "    makesvgentitiesrecurse(d, list(d.blocks[e.name]), fwrite, e)\n"
   ]
  },
  {
   "cell_type": "code",
   "execution_count": 62,
   "metadata": {},
   "outputs": [],
   "source": [
    "import dxfgrabber\n",
    "\n",
    "def makesvgentitiesrecurse(d, entities, block):\n",
    "    for i, e in enumerate(entities):\n",
    "        if e.color == 256:\n",
    "            colnum = d.layers[e.layer].color\n",
    "        elif e.color == 0:\n",
    "            colnum = block.color\n",
    "        else:\n",
    "            colnum = e.color\n",
    "        col = colnum\n",
    "        layername = e.layer\n",
    "        \n",
    "        if e.dxftype == \"INSERT\":\n",
    "            # need to flip the Y, and (not checked) I think the rotation is inverted as well\n",
    "            col = col\n",
    "            #grec = SVG_G.format(layername=layername, translate=(e.insert[0], -e.insert[1]), rotate=-e.rotation, scale=e.scale, stroke=col)\n",
    "            print(\"blockscale\")\n",
    "            makesvgentitiesrecurse(d, list(d.blocks[e.name]), e)\n",
    "            print(\"endblockscale\")\n",
    "        else:\n",
    "            print(e, col, layername)\n"
   ]
  },
  {
   "cell_type": "code",
   "execution_count": 52,
   "metadata": {},
   "outputs": [],
   "source": [
    "d = dxfgrabber.readfile(fname)"
   ]
  },
  {
   "cell_type": "code",
   "execution_count": 63,
   "metadata": {},
   "outputs": [
    {
     "name": "stdout",
     "output_type": "stream",
     "text": [
      "blockscale\n",
      "LWPOLYLINE [43] 250 1\n",
      "LWPOLYLINE [44] 250 8\n",
      "LWPOLYLINE [45] 250 8\n",
      "LWPOLYLINE [46] 250 8\n",
      "endblockscale\n",
      "blockscale\n",
      "LWPOLYLINE [47] 250 1\n",
      "LWPOLYLINE [48] 250 8\n",
      "endblockscale\n",
      "blockscale\n",
      "LWPOLYLINE [49] 250 1\n",
      "LWPOLYLINE [4A] 250 8\n",
      "LINE [4B] 250 7\n",
      "endblockscale\n"
     ]
    }
   ],
   "source": [
    "makesvgentitiesrecurse(d, list(d.entities), None)"
   ]
  },
  {
   "cell_type": "code",
   "execution_count": null,
   "metadata": {},
   "outputs": [],
   "source": []
  }
 ],
 "metadata": {
  "kernelspec": {
   "display_name": "Python 3",
   "language": "python",
   "name": "python3"
  },
  "language_info": {
   "codemirror_mode": {
    "name": "ipython",
    "version": 3
   },
   "file_extension": ".py",
   "mimetype": "text/x-python",
   "name": "python",
   "nbconvert_exporter": "python",
   "pygments_lexer": "ipython3",
   "version": "3.7.0"
  }
 },
 "nbformat": 4,
 "nbformat_minor": 2
}
