{
 "cells": [
  {
   "cell_type": "code",
   "execution_count": 1,
   "metadata": {},
   "outputs": [
    {
     "data": {
      "text/plain": [
       "'2.7.15 |Anaconda, Inc.| (default, Dec 14 2018, 19:04:19) \\n[GCC 7.3.0]'"
      ]
     },
     "execution_count": 1,
     "metadata": {},
     "output_type": "execute_result"
    }
   ],
   "source": [
    "import sys\n",
    "sys.version"
   ]
  },
  {
   "cell_type": "code",
   "execution_count": 1,
   "metadata": {},
   "outputs": [],
   "source": [
    "# Note, this is python2 so it works with FreeCAD\n",
    "# Kernel switching doesn't work.  \n",
    "# Need to do conda activate python2, then jupyter notebook\n",
    "# Needs to have done:\n",
    "#import pip\n",
    "#pip.main([\"install\", \"ezdxf\"])"
   ]
  },
  {
   "cell_type": "code",
   "execution_count": 106,
   "metadata": {},
   "outputs": [],
   "source": [
    "import ezdxf\n",
    "fname = \"/home/julian/repositories/dxf2svg/examples/2Rio 15 TSR-TSM Master-01.dxf\"\n",
    "fname = \"/home/julian/data/freecad/podshapes/Pod-classic_1.dxf\"\n",
    "fname = \"/home/julian/data/freecad/deepnest50.dxf\"\n",
    "fname = \"/home/julian/data/freecad/Arcitype parts/sidepanel fan grill3.dxf\"\n",
    "fname = \"/home/julian/data/freecad/Arcitype parts/Control sidepanel bare.dxf\"\n",
    "dfile = ezdxf.readfile(fname)"
   ]
  },
  {
   "cell_type": "code",
   "execution_count": 82,
   "metadata": {},
   "outputs": [
    {
     "data": {
      "text/plain": [
       "'2.7.15 |Anaconda, Inc.| (default, Dec 14 2018, 19:04:19) \\n[GCC 7.3.0]'"
      ]
     },
     "execution_count": 82,
     "metadata": {},
     "output_type": "execute_result"
    }
   ],
   "source": [
    "import sys\n",
    "sys.version"
   ]
  },
  {
   "cell_type": "code",
   "execution_count": 83,
   "metadata": {},
   "outputs": [],
   "source": [
    "import sys\n",
    "freecadpath = \"/home/julian/extrepositories/FreeCAD/freecad-build/lib\"\n",
    "sys.path.append(freecadpath)\n",
    "import FreeCAD\n",
    "#doc = FreeCAD.open(\"blank.fcstd\")\n",
    "#FreeCAD.setActiveDocument(doc.Name)"
   ]
  },
  {
   "cell_type": "code",
   "execution_count": 108,
   "metadata": {},
   "outputs": [
    {
     "data": {
      "text/plain": [
       "[<class 'ezdxf.modern.graphics.Line'> LINE(#100),\n",
       " <class 'ezdxf.modern.graphics.Line'> LINE(#101),\n",
       " <class 'ezdxf.modern.graphics.Line'> LINE(#102),\n",
       " <class 'ezdxf.modern.graphics.Line'> LINE(#103),\n",
       " <class 'ezdxf.modern.graphics.Arc'> ARC(#104),\n",
       " <class 'ezdxf.modern.graphics.Arc'> ARC(#105),\n",
       " <class 'ezdxf.modern.graphics.Arc'> ARC(#106),\n",
       " <class 'ezdxf.modern.graphics.Arc'> ARC(#107)]"
      ]
     },
     "execution_count": 108,
     "metadata": {},
     "output_type": "execute_result"
    }
   ],
   "source": [
    "list(dfile.entities)"
   ]
  },
  {
   "cell_type": "code",
   "execution_count": 107,
   "metadata": {},
   "outputs": [
    {
     "ename": "TypeError",
     "evalue": "object of type 'Line' has no len()",
     "output_type": "error",
     "traceback": [
      "\u001b[0;31m---------------------------------------------------------------------------\u001b[0m",
      "\u001b[0;31mTypeError\u001b[0m                                 Traceback (most recent call last)",
      "\u001b[0;32m<ipython-input-107-9ae811f5bf47>\u001b[0m in \u001b[0;36m<module>\u001b[0;34m()\u001b[0m\n\u001b[1;32m      1\u001b[0m \u001b[0me\u001b[0m \u001b[0;34m=\u001b[0m \u001b[0mlist\u001b[0m\u001b[0;34m(\u001b[0m\u001b[0mdfile\u001b[0m\u001b[0;34m.\u001b[0m\u001b[0mentities\u001b[0m\u001b[0;34m)\u001b[0m\u001b[0;34m[\u001b[0m\u001b[0;36m0\u001b[0m\u001b[0;34m]\u001b[0m\u001b[0;34m\u001b[0m\u001b[0m\n\u001b[0;32m----> 2\u001b[0;31m \u001b[0mlen\u001b[0m\u001b[0;34m(\u001b[0m\u001b[0me\u001b[0m\u001b[0;34m)\u001b[0m\u001b[0;34m,\u001b[0m \u001b[0me\u001b[0m\u001b[0;34m.\u001b[0m\u001b[0mclosed\u001b[0m\u001b[0;34m\u001b[0m\u001b[0m\n\u001b[0m\u001b[1;32m      3\u001b[0m \u001b[0;32mfor\u001b[0m \u001b[0mi\u001b[0m \u001b[0;32min\u001b[0m \u001b[0mrange\u001b[0m\u001b[0;34m(\u001b[0m\u001b[0mlen\u001b[0m\u001b[0;34m(\u001b[0m\u001b[0me\u001b[0m\u001b[0;34m)\u001b[0m\u001b[0;34m)\u001b[0m\u001b[0;34m:\u001b[0m\u001b[0;34m\u001b[0m\u001b[0m\n\u001b[1;32m      4\u001b[0m     \u001b[0;32mprint\u001b[0m\u001b[0;34m(\u001b[0m\u001b[0me\u001b[0m\u001b[0;34m[\u001b[0m\u001b[0mi\u001b[0m\u001b[0;34m]\u001b[0m\u001b[0;34m)\u001b[0m\u001b[0;34m\u001b[0m\u001b[0m\n",
      "\u001b[0;31mTypeError\u001b[0m: object of type 'Line' has no len()"
     ]
    }
   ],
   "source": [
    "e = list(dfile.entities)[0]\n",
    "len(e), e.closed\n",
    "for i in range(len(e)):\n",
    "    print(e[i])\n"
   ]
  },
  {
   "cell_type": "code",
   "execution_count": 73,
   "metadata": {},
   "outputs": [
    {
     "data": {
      "text/plain": [
       "0.09966865249116204"
      ]
     },
     "execution_count": 73,
     "metadata": {},
     "output_type": "execute_result"
    }
   ],
   "source": [
    "#print(dir(Vector))\n",
    "#getAngle()\n",
    "#p0.cross(Vector(0,0,1))\n",
    "math.atan2(0.1,1)"
   ]
  },
  {
   "cell_type": "code",
   "execution_count": 99,
   "metadata": {},
   "outputs": [
    {
     "data": {
      "text/plain": [
       "{u'color': 256,\n",
       " u'const_width': 0.0,\n",
       " u'count': 8,\n",
       " u'flags': 1,\n",
       " u'handle': u'4D',\n",
       " u'layer': u'0',\n",
       " u'linetype': u'ByLayer',\n",
       " u'lineweight': -1,\n",
       " u'owner': u'1F'}"
      ]
     },
     "execution_count": 99,
     "metadata": {},
     "output_type": "execute_result"
    }
   ],
   "source": [
    "e.dxfattribs()"
   ]
  },
  {
   "cell_type": "code",
   "execution_count": null,
   "metadata": {},
   "outputs": [],
   "source": []
  },
  {
   "cell_type": "code",
   "execution_count": 105,
   "metadata": {},
   "outputs": [
    {
     "name": "stdout",
     "output_type": "stream",
     "text": [
      "(5.499999999999988, 5.499999999999985, 5.499999999999989)\n",
      "ArcOfCircle (Radius : 5.5, Position : (58.4705, 45.7601, 0), Direction : (0, 0, -1), Parameter : (0, 6.28319))\n",
      "(1.500000000000014, 1.50000000000002, 1.500000000000018)\n",
      "ArcOfCircle (Radius : 1.5, Position : (65.2307, 43.9433, 0), Direction : (0, 0, 1), Parameter : (0, 6.28319))\n",
      "<Line segment (64.1702,42.8825,0) (64.9701,42.0828,0) >\n",
      "(1.5000000000000013, 1.5000000000000029, 1.5000000000000069)\n",
      "ArcOfCircle (Radius : 1.5, Position : (66.0306, 43.1437, 0), Direction : (0, 0, 1), Parameter : (0, 6.28319))\n",
      "(9.500000000000004, 9.500000000000002, 9.500000000000002)\n",
      "ArcOfCircle (Radius : 9.5, Position : (58.4705, 45.7601, 0), Direction : (0, 0, 1), Parameter : (0, 6.28319))\n",
      "(1.5000000000000135, 1.500000000000013, 1.5000000000000078)\n",
      "ArcOfCircle (Radius : 1.5, Position : (55.8518, 53.3193, 0), Direction : (0, 0, 1), Parameter : (0, 6.28319))\n",
      "<Line segment (54.7913,52.2585,0) (55.5913,51.4588,0) >\n",
      "(1.5000000000000577, 1.500000000000063, 1.5000000000000635)\n",
      "ArcOfCircle (Radius : 1.5, Position : (56.6518, 52.5196, 0), Direction : (0, 0, 1), Parameter : (0, 6.28319))\n"
     ]
    }
   ],
   "source": [
    "import math\n",
    "from FreeCAD import Vector\n",
    "import Draft, Part\n",
    "\n",
    "def lwpgeo(p0, p1, bulge):\n",
    "    if bulge != 0:\n",
    "        lv = p1 - p0\n",
    "        b = abs(bulge)\n",
    "        d = lv.Length/2\n",
    "        bd = b*d\n",
    "        r = (bd + d/b)/2\n",
    "        sb = (1 if bulge >= 0 else -1)\n",
    "        pf = (r - bd)/(d*2)\n",
    "        cnorm = Vector(0, 0, 1)\n",
    "        lvperp = lv.cross(cnorm)*sb\n",
    "        cen = p0 + lv*0.5 - lvperp*pf\n",
    "        circ = Part.Circle(cen, cnorm, r)\n",
    "        mang = math.atan2(lvperp.y, lvperp.x)\n",
    "        th2 = math.asin(d/r)\n",
    "        return(Part.ArcOfCircle(circ, mang-th2, mang+th2))\n",
    "    else:\n",
    "        return Part.LineSegment(p0, p1)\n",
    "        \n",
    "\n",
    "p0 = Vector(e[0][0], e[0][1])\n",
    "for i in range(1, len(e)):\n",
    "    p1 = Vector(e[i][0], e[i][1])\n",
    "    print(lwpgeo(p0, p1, e[i-1][4]))\n",
    "    p0 = p1\n",
    "if e.closed:\n",
    "    print(lwpgeo(p0, Vector(e[0][0], e[0][1]), e[-1][4]))\n"
   ]
  },
  {
   "cell_type": "code",
   "execution_count": 65,
   "metadata": {},
   "outputs": [
    {
     "data": {
      "text/plain": [
       "99"
      ]
     },
     "execution_count": 65,
     "metadata": {},
     "output_type": "execute_result"
    }
   ],
   "source": [
    "#dfile.layers.get(e.dxf.layer).dxf\n",
    "e.dxf.layer\n",
    "#dfile.layers.get(e.dxf.layer).get_color()\n",
    "e.dxfattribs()\n",
    "dfile.layers.get(e.dxf.layer).get_dxf_attrib(\"color\", 99)\n"
   ]
  },
  {
   "cell_type": "code",
   "execution_count": 66,
   "metadata": {},
   "outputs": [],
   "source": [
    "from matplotlib import pyplot as plt\n",
    "%matplotlib inline\n",
    "\n",
    "dxfcolors = ['#000000', '#FF0000', '#FFFF00', '#00FF00', '#00FFFF', '#0000FF', '#FF00FF', '#000000', '#808080', '#C0C0C0', '#FF0000', '#FF7F7F', '#CC0000', '#CC6666', '#990000', '#994C4C', '#7F0000', '#7F3F3F', '#4C0000', '#4C2626', '#FF3F00', '#FF9F7F', '#CC3300', '#CC7F66', '#992600', '#995F4C', '#7F1F00', '#7F4F3F', '#4C1300', '#4C2F26', '#FF7F00', '#FFBF7F', '#CC6600', '#CC9966', '#994C00', '#99724C', '#7F3F00', '#7F5F3F', '#4C2600', '#4C3926', '#FFBF00', '#FFDF7F', '#CC9900', '#CCB266', '#997200', '#99854C', '#7F5F00', '#7F6F3F', '#4C3900', '#4C4226', '#FFFF00', '#FFFF7F', '#CCCC00', '#CCCC66', '#999900', '#99994C', '#7F7F00', '#7F7F3F', '#4C4C00', '#4C4C26', '#BFFF00', '#DFFF7F', '#99CC00', '#B2CC66', '#729900', '#85994C', '#5F7F00', '#6F7F3F', '#394C00', '#424C26', '#7FFF00', '#BFFF7F', '#66CC00', '#99CC66', '#4C9900', '#72994C', '#3F7F00', '#5F7F3F', '#264C00', '#394C26', '#3FFF00', '#9FFF7F', '#33CC00', '#7FCC66', '#269900', '#5F994C', '#1F7F00', '#4F7F3F', '#134C00', '#2F4C26', '#00FF00', '#7FFF7F', '#00CC00', '#66CC66', '#009900', '#4C994C', '#007F00', '#3F7F3F', '#004C00', '#264C26', '#00FF3F', '#7FFF9F', '#00CC33', '#66CC7F', '#009926', '#4C995F', '#007F1F', '#3F7F4F', '#004C13', '#264C2F', '#00FF7F', '#7FFFBF', '#00CC66', '#66CC99', '#00994C', '#4C9972', '#007F3F', '#3F7F5F', '#004C26', '#264C39', '#00FFBF', '#7FFFDF', '#00CC99', '#66CCB2', '#009972', '#4C9985', '#007F5F', '#3F7F6F', '#004C39', '#264C42', '#00FFFF', '#7FFFFF', '#00CCCC', '#66CCCC', '#009999', '#4C9999', '#007F7F', '#3F7F7F', '#004C4C', '#264C4C', '#00BFFF', '#7FDFFF', '#0099CC', '#66B2CC', '#007299', '#4C8599', '#005F7F', '#3F6F7F', '#00394C', '#26424C', '#007FFF', '#7FBFFF', '#0066CC', '#6699CC', '#004C99', '#4C7299', '#003F7F', '#3F5F7F', '#00264C', '#26394C', '#0042FF', '#7F9FFF', '#0033CC', '#667FCC', '#002699', '#4C5F99', '#001F7F', '#3F4F7F', '#00134C', '#262F4C', '#0000FF', '#7F7FFF', '#0000CC', '#6666CC', '#000099', '#4C4C99', '#00007F', '#3F3F7F', '#00004C', '#26264C', '#3F00FF', '#9F7FFF', '#3200CC', '#7F66CC', '#260099', '#5F4C99', '#1F007F', '#4F3F7F', '#13004C', '#2F264C', '#7F00FF', '#BF7FFF', '#6600CC', '#9966CC', '#4C0099', '#724C99', '#3F007F', '#5F3F7F', '#26004C', '#39264C', '#BF00FF', '#DF7FFF', '#9900CC', '#B266CC', '#720099', '#854C99', '#5F007F', '#6F3F7F', '#39004C', '#42264C', '#FF00FF', '#FF7FFF', '#CC00CC', '#CC66CC', '#990099', '#994C99', '#7F007F', '#7F3F7F', '#4C004C', '#4C264C', '#FF00BF', '#FF7FDF', '#CC0099', '#CC66B2', '#990072', '#994C85', '#7F005F', '#7F3F0B', '#4C0039', '#4C2642', '#FF007F', '#FF7FBF', '#CC0066', '#CC6699', '#99004C', '#994C72', '#7F003F', '#7F3F5F', '#4C0026', '#4C2639', '#FF003F', '#FF7F9F', '#CC0033', '#CC667F', '#990026', '#994C5F', '#7F001F', '#7F3F4F', '#4C0013', '#4C262F', '#333333', '#5B5B5B', '#848484', '#ADADAD', '#D6D6D6', '#FFFFFF']\n",
    "def getlayercol(e, dfile, blockcolnum):\n",
    "    if e.dxf.color == 256:\n",
    "        layer = dfile.layers.get(e.dxf.layer)\n",
    "        colnum = layer.get_dxf_attrib(\"color\", 0)\n",
    "    elif e.dxf.color == 0:\n",
    "        colnum = blockcolnum\n",
    "    else:\n",
    "        colnum = e.dxf.color\n",
    "    return (e.dxf.layer, dxfcolors[colnum])\n",
    "\n",
    "def makeentitygroupsrecurse(entitygroupdict, dfile, entities, blockcolnum):\n",
    "    for e in entities:\n",
    "        if e.dxftype() == 'INSERT':\n",
    "            print(\"INSERT translate\", e.dxf.insert, \"rotate\", e.dxf.rotation, \"scale\", e.dxf.xscale, e.dxf.yscale)\n",
    "            lblockcolnum = dfile.layers.get(e.dxf.layer).get_color()\n",
    "            makeentitygroupsrecurse(entitygroupdict, dfile, list(dfile.blocks[e.dxf.name]), lblockcolnum)\n",
    "        elif e.dxftype() == 'MTEXT':\n",
    "            pass\n",
    "        elif e.dxftype() == 'TEXT':\n",
    "            pass\n",
    "        else:\n",
    "            layercol = getlayercol(e, dfile, blockcolnum)\n",
    "            entitygroupdict.setdefault(layercol, []).append(e)\n",
    "    return entitygroupdict\n",
    "\n",
    "def makeentitygroups(dfile):\n",
    "    entitygroupdict = { }\n",
    "    makeentitygroupsrecurse(entitygroupdict, dfile, dfile.entities, 1)\n",
    "    entitygroups = entitygroupdict.items()\n",
    "    layernameorder = dict((n, i)  for i, n in enumerate(l.dxf.name  for l in dfile.layers))\n",
    "    entitygroups.sort(key=lambda X:layernameorder[X[0][0]])\n",
    "    return entitygroups\n",
    "\n",
    "entitygroups = makeentitygroups(dfile)"
   ]
  },
  {
   "cell_type": "code",
   "execution_count": 4,
   "metadata": {},
   "outputs": [],
   "source": [
    "sketch = FreeCAD.ActiveDocument.addObject(\"Sketcher::SketchObject\", \"thing\"); \n",
    "if sketch.ViewObject is not None:\n",
    "    sketch.ViewObject.Visibility = True\n"
   ]
  },
  {
   "cell_type": "code",
   "execution_count": 23,
   "metadata": {},
   "outputs": [
    {
     "data": {
      "text/plain": [
       "(216.539, 1071.94, 0.0)"
      ]
     },
     "execution_count": 23,
     "metadata": {},
     "output_type": "execute_result"
    }
   ],
   "source": [
    "dir(e[0])\n",
    "e[0].dxfattribs()\n",
    "e[0].dxf.location"
   ]
  },
  {
   "cell_type": "code",
   "execution_count": 21,
   "metadata": {},
   "outputs": [
    {
     "data": {
      "text/plain": [
       "{u'color': 0,\n",
       " u'default_end_width': 0.0,\n",
       " u'default_start_width': 0.0,\n",
       " u'elevation': (0.0, 0.0, 0.0),\n",
       " u'flags': 1,\n",
       " u'handle': u'2',\n",
       " u'layer': u'0'}"
      ]
     },
     "execution_count": 21,
     "metadata": {},
     "output_type": "execute_result"
    }
   ],
   "source": [
    "e.dxfattribs()"
   ]
  },
  {
   "cell_type": "code",
   "execution_count": 8,
   "metadata": {},
   "outputs": [],
   "source": [
    "(layer, col), entities = entitygroups[0]\n",
    "e = entities[0]"
   ]
  },
  {
   "cell_type": "code",
   "execution_count": 67,
   "metadata": {},
   "outputs": [
    {
     "ename": "AttributeError",
     "evalue": "'NoneType' object has no attribute 'addObject'",
     "output_type": "error",
     "traceback": [
      "\u001b[0;31m---------------------------------------------------------------------------\u001b[0m",
      "\u001b[0;31mAttributeError\u001b[0m                            Traceback (most recent call last)",
      "\u001b[0;32m<ipython-input-67-1400213146e7>\u001b[0m in \u001b[0;36m<module>\u001b[0;34m()\u001b[0m\n\u001b[1;32m      9\u001b[0m     \u001b[0;32mif\u001b[0m \u001b[0mlen\u001b[0m\u001b[0;34m(\u001b[0m\u001b[0mslayer\u001b[0m\u001b[0;34m)\u001b[0m \u001b[0;34m<=\u001b[0m \u001b[0;36m1\u001b[0m\u001b[0;34m:\u001b[0m\u001b[0;34m\u001b[0m\u001b[0m\n\u001b[1;32m     10\u001b[0m         \u001b[0mslayer\u001b[0m \u001b[0;34m=\u001b[0m \u001b[0;34m\"layer_\"\u001b[0m\u001b[0;34m+\u001b[0m\u001b[0mslayer\u001b[0m  \u001b[0;31m# Sketcher name is '_' if it's a 1 character number\u001b[0m\u001b[0;34m\u001b[0m\u001b[0m\n\u001b[0;32m---> 11\u001b[0;31m     \u001b[0msketch\u001b[0m \u001b[0;34m=\u001b[0m \u001b[0mFreeCAD\u001b[0m\u001b[0;34m.\u001b[0m\u001b[0mActiveDocument\u001b[0m\u001b[0;34m.\u001b[0m\u001b[0maddObject\u001b[0m\u001b[0;34m(\u001b[0m\u001b[0;34m\"Sketcher::SketchObject\"\u001b[0m\u001b[0;34m,\u001b[0m \u001b[0mslayer\u001b[0m\u001b[0;34m)\u001b[0m\u001b[0;34m\u001b[0m\u001b[0m\n\u001b[0m\u001b[1;32m     12\u001b[0m     \u001b[0;32mif\u001b[0m \u001b[0msketch\u001b[0m\u001b[0;34m.\u001b[0m\u001b[0mViewObject\u001b[0m \u001b[0;32mis\u001b[0m \u001b[0;32mnot\u001b[0m \u001b[0mNone\u001b[0m\u001b[0;34m:\u001b[0m\u001b[0;34m\u001b[0m\u001b[0m\n\u001b[1;32m     13\u001b[0m         \u001b[0msketch\u001b[0m\u001b[0;34m.\u001b[0m\u001b[0mViewObject\u001b[0m\u001b[0;34m.\u001b[0m\u001b[0mVisibility\u001b[0m \u001b[0;34m=\u001b[0m \u001b[0mTrue\u001b[0m\u001b[0;34m\u001b[0m\u001b[0m\n",
      "\u001b[0;31mAttributeError\u001b[0m: 'NoneType' object has no attribute 'addObject'"
     ]
    }
   ],
   "source": [
    "import math\n",
    "import Draft, Part\n",
    "from FreeCAD import Vector\n",
    "\n",
    "d = None\n",
    "cnorm = Vector(0, 0, 1)\n",
    "for (layer, col), entities in entitygroups:\n",
    "    slayer = str(layer)\n",
    "    if len(slayer) <= 1:\n",
    "        slayer = \"layer_\"+slayer  # Sketcher name is '_' if it's a 1 character number\n",
    "    sketch = FreeCAD.ActiveDocument.addObject(\"Sketcher::SketchObject\", slayer)\n",
    "    if sketch.ViewObject is not None:\n",
    "        sketch.ViewObject.Visibility = True\n",
    "        sketch.ViewObject.LineColor = (int(col[1:3],16)/255.0, int(col[3:5],16)/255.0, int(col[5:7],16)/255.0)\n",
    "    print(\"Making sketch\", layer, col)\n",
    "    for e in entities:\n",
    "        try:\n",
    "            if e.dxftype() == \"LINE\":\n",
    "                if e.dxf.start != e.dxf.end:\n",
    "                    p0 = Vector(e.dxf.start[0], e.dxf.start[1])\n",
    "                    p1 = Vector(e.dxf.end[0], e.dxf.end[1])\n",
    "                    sketch.addGeometry(Part.LineSegment(p0, p1))\n",
    "            elif e.dxftype() == \"CIRCLE\":\n",
    "                cen = Vector(e.dxf.center[0], e.dxf.center[1])\n",
    "                sketch.addGeometry(Part.Circle(cen, cnorm, e.dxf.radius))\n",
    "            elif e.dxftype() == \"ARC\":\n",
    "                cen = Vector(e.dxf.center[0], e.dxf.center[1])\n",
    "                circ = Part.Circle(cen, cnorm, e.dxf.radius)\n",
    "                sketch.addGeometry(Part.ArcOfCircle(circ, math.radians(e.dxf.start_angle), math.radians(e.dxf.end_angle)))\n",
    "            elif e.dxftype() == \"SPLINE\":\n",
    "                cps = [Vector(x[0], x[1])  for x in list(e.control_points)]\n",
    "                bspl = Part.BSplineCurve(cps,None,None,False,e.dxf.degree,None,e.closed)\n",
    "                sketch.addGeometry(bspl)\n",
    "                d = e\n",
    "                \n",
    "            elif e.dxftype() == \"LWPOLYLINE\":\n",
    "                p0 = Vector(e[0][0], e[0][1])\n",
    "                for i in range(1, len(e)):\n",
    "                    p1 = Vector(e[i][0], e[i][1])\n",
    "                    if e[i][4] != 0:\n",
    "                        lv = p1 - p0\n",
    "                        lvp = lv.cross(cnorm)\n",
    "                        l2 = 0.5*lv.Length\n",
    "                        radius = l2/e[i][4]\n",
    "                        s = l2*math.sqrt(1/e[i][4]**2 - 1)\n",
    "                        cen = p0 + lv*0.5 + lvp*(s/lv.Length)\n",
    "                        circ = Part.Circle(cen, cnorm, radius)\n",
    "                        sketch.addGeometry(Part.ArcOfCircle(circ, math.radians(0), math.radians(360)))\n",
    "                    elif p0 != p1:\n",
    "                        sketch.addGeometry(Part.LineSegment(p0, p1))\n",
    "                    p0 = p1\n",
    "                if e.closed:\n",
    "                    p1 = Vector(e[0][0], e[0][1])\n",
    "                    if p0 != p1:\n",
    "                        sketch.addGeometry(Part.LineSegment(p0, p1))\n",
    "                        \n",
    "            elif e.dxftype() == \"POLYLINE\":\n",
    "                # you can't cheat and use a BSplineCurve of degree 1 here, unfortunately\n",
    "                p0 = Vector(e[0].dxf.location[0], e[0].dxf.location[1])\n",
    "                for i in range(1, len(e)):\n",
    "                    p1 = Vector(e[i].dxf.location[0], e[i].dxf.location[1])\n",
    "                    if p0 != p1:\n",
    "                        sketch.addGeometry(Part.LineSegment(p0, p1))\n",
    "                    p0 = p1\n",
    "\n",
    "            else:\n",
    "                print(\"l\", e.dxftype())\n",
    "        except Part.OCCError as err:\n",
    "            print(e, err)"
   ]
  },
  {
   "cell_type": "code",
   "execution_count": 6,
   "metadata": {},
   "outputs": [],
   "source": [
    "doc.saveCopy(\"test.fcstd\")"
   ]
  },
  {
   "cell_type": "code",
   "execution_count": null,
   "metadata": {},
   "outputs": [],
   "source": []
  },
  {
   "cell_type": "code",
   "execution_count": null,
   "metadata": {},
   "outputs": [],
   "source": [
    "FreeCAD.ActiveDocument.addObject(\"Sketcher::SketchObject\", slayer)\n"
   ]
  },
  {
   "cell_type": "code",
   "execution_count": 15,
   "metadata": {},
   "outputs": [
    {
     "data": {
      "text/plain": [
       "<Document object at 0x5641f3bbf3d0>"
      ]
     },
     "execution_count": 15,
     "metadata": {},
     "output_type": "execute_result"
    }
   ],
   "source": [
    "doc = FreeCAD.ActiveDocument is None:\n",
    "    doc = FreeCAD.newDocument(\"dxfstuff\")\n"
   ]
  },
  {
   "cell_type": "code",
   "execution_count": 17,
   "metadata": {},
   "outputs": [
    {
     "data": {
      "text/plain": [
       "<Document object at 0x5641f3bbf3d0>"
      ]
     },
     "execution_count": 17,
     "metadata": {},
     "output_type": "execute_result"
    }
   ],
   "source": [
    "FreeCAD.activeDocument()"
   ]
  },
  {
   "cell_type": "code",
   "execution_count": null,
   "metadata": {},
   "outputs": [],
   "source": []
  }
 ],
 "metadata": {
  "kernelspec": {
   "display_name": "Python 2",
   "language": "python",
   "name": "python2"
  },
  "language_info": {
   "codemirror_mode": {
    "name": "ipython",
    "version": 2
   },
   "file_extension": ".py",
   "mimetype": "text/x-python",
   "name": "python",
   "nbconvert_exporter": "python",
   "pygments_lexer": "ipython2",
   "version": "2.7.15"
  }
 },
 "nbformat": 4,
 "nbformat_minor": 2
}
