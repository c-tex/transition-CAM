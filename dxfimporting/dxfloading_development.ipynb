{
 "cells": [
  {
   "cell_type": "code",
   "execution_count": 1,
   "metadata": {},
   "outputs": [],
   "source": [
    "# Note, this is python2 so it works with FreeCAD\n",
    "# Needs to have done:\n",
    "#import pip\n",
    "#pip.main([\"install\", \"ezdxf\"])"
   ]
  },
  {
   "cell_type": "code",
   "execution_count": 1,
   "metadata": {},
   "outputs": [],
   "source": [
    "import ezdxf\n",
    "fname = \"/home/julian/repositories/dxf2svg/examples/2Rio 15 TSR-TSM Master-01.dxf\"\n",
    "fname = \"/home/julian/data/freecad/podshapes/Pod-classic_1.dxf\"\n",
    "\n",
    "dfile = ezdxf.readfile(fname)"
   ]
  },
  {
   "cell_type": "code",
   "execution_count": 2,
   "metadata": {},
   "outputs": [],
   "source": [
    "import sys\n",
    "freecadpath = \"/home/julian/extrepositories/FreeCAD/freecad-build/lib\"\n",
    "sys.path.append(freecadpath)\n",
    "import FreeCAD\n",
    "doc = FreeCAD.open(\"blank.fcstd\")\n",
    "#FreeCAD.setActiveDocument(doc.Name)"
   ]
  },
  {
   "cell_type": "code",
   "execution_count": 3,
   "metadata": {},
   "outputs": [
    {
     "name": "stdout",
     "output_type": "stream",
     "text": [
      "('INSERT translate', (0.0, 0.0, 0.0), 'rotate', 0.0, 'scale', 1.0, 1.0)\n",
      "('INSERT translate', (0.0, 0.0, 0.0), 'rotate', 0.0, 'scale', 1.0, 1.0)\n",
      "('INSERT translate', (0.0, 0.0, 0.0), 'rotate', 0.0, 'scale', 1.0, 1.0)\n"
     ]
    }
   ],
   "source": [
    "from matplotlib import pyplot as plt\n",
    "%matplotlib inline\n",
    "\n",
    "dxfcolors = ['#000000', '#FF0000', '#FFFF00', '#00FF00', '#00FFFF', '#0000FF', '#FF00FF', '#000000', '#808080', '#C0C0C0', '#FF0000', '#FF7F7F', '#CC0000', '#CC6666', '#990000', '#994C4C', '#7F0000', '#7F3F3F', '#4C0000', '#4C2626', '#FF3F00', '#FF9F7F', '#CC3300', '#CC7F66', '#992600', '#995F4C', '#7F1F00', '#7F4F3F', '#4C1300', '#4C2F26', '#FF7F00', '#FFBF7F', '#CC6600', '#CC9966', '#994C00', '#99724C', '#7F3F00', '#7F5F3F', '#4C2600', '#4C3926', '#FFBF00', '#FFDF7F', '#CC9900', '#CCB266', '#997200', '#99854C', '#7F5F00', '#7F6F3F', '#4C3900', '#4C4226', '#FFFF00', '#FFFF7F', '#CCCC00', '#CCCC66', '#999900', '#99994C', '#7F7F00', '#7F7F3F', '#4C4C00', '#4C4C26', '#BFFF00', '#DFFF7F', '#99CC00', '#B2CC66', '#729900', '#85994C', '#5F7F00', '#6F7F3F', '#394C00', '#424C26', '#7FFF00', '#BFFF7F', '#66CC00', '#99CC66', '#4C9900', '#72994C', '#3F7F00', '#5F7F3F', '#264C00', '#394C26', '#3FFF00', '#9FFF7F', '#33CC00', '#7FCC66', '#269900', '#5F994C', '#1F7F00', '#4F7F3F', '#134C00', '#2F4C26', '#00FF00', '#7FFF7F', '#00CC00', '#66CC66', '#009900', '#4C994C', '#007F00', '#3F7F3F', '#004C00', '#264C26', '#00FF3F', '#7FFF9F', '#00CC33', '#66CC7F', '#009926', '#4C995F', '#007F1F', '#3F7F4F', '#004C13', '#264C2F', '#00FF7F', '#7FFFBF', '#00CC66', '#66CC99', '#00994C', '#4C9972', '#007F3F', '#3F7F5F', '#004C26', '#264C39', '#00FFBF', '#7FFFDF', '#00CC99', '#66CCB2', '#009972', '#4C9985', '#007F5F', '#3F7F6F', '#004C39', '#264C42', '#00FFFF', '#7FFFFF', '#00CCCC', '#66CCCC', '#009999', '#4C9999', '#007F7F', '#3F7F7F', '#004C4C', '#264C4C', '#00BFFF', '#7FDFFF', '#0099CC', '#66B2CC', '#007299', '#4C8599', '#005F7F', '#3F6F7F', '#00394C', '#26424C', '#007FFF', '#7FBFFF', '#0066CC', '#6699CC', '#004C99', '#4C7299', '#003F7F', '#3F5F7F', '#00264C', '#26394C', '#0042FF', '#7F9FFF', '#0033CC', '#667FCC', '#002699', '#4C5F99', '#001F7F', '#3F4F7F', '#00134C', '#262F4C', '#0000FF', '#7F7FFF', '#0000CC', '#6666CC', '#000099', '#4C4C99', '#00007F', '#3F3F7F', '#00004C', '#26264C', '#3F00FF', '#9F7FFF', '#3200CC', '#7F66CC', '#260099', '#5F4C99', '#1F007F', '#4F3F7F', '#13004C', '#2F264C', '#7F00FF', '#BF7FFF', '#6600CC', '#9966CC', '#4C0099', '#724C99', '#3F007F', '#5F3F7F', '#26004C', '#39264C', '#BF00FF', '#DF7FFF', '#9900CC', '#B266CC', '#720099', '#854C99', '#5F007F', '#6F3F7F', '#39004C', '#42264C', '#FF00FF', '#FF7FFF', '#CC00CC', '#CC66CC', '#990099', '#994C99', '#7F007F', '#7F3F7F', '#4C004C', '#4C264C', '#FF00BF', '#FF7FDF', '#CC0099', '#CC66B2', '#990072', '#994C85', '#7F005F', '#7F3F0B', '#4C0039', '#4C2642', '#FF007F', '#FF7FBF', '#CC0066', '#CC6699', '#99004C', '#994C72', '#7F003F', '#7F3F5F', '#4C0026', '#4C2639', '#FF003F', '#FF7F9F', '#CC0033', '#CC667F', '#990026', '#994C5F', '#7F001F', '#7F3F4F', '#4C0013', '#4C262F', '#333333', '#5B5B5B', '#848484', '#ADADAD', '#D6D6D6', '#FFFFFF']\n",
    "def getlayercol(e, dfile, blockcolnum):\n",
    "    if e.dxf.color == 256:\n",
    "        colnum = dfile.layers.get(e.dxf.layer).get_color()\n",
    "    elif e.dxf.color == 0:\n",
    "        colnum = blockcolnum\n",
    "    else:\n",
    "        colnum = e.dxf.color\n",
    "    return (e.dxf.layer, dxfcolors[colnum])\n",
    "\n",
    "def makeentitygroupsrecurse(entitygroupdict, dfile, entities, blockcolnum):\n",
    "    for e in entities:\n",
    "        if e.dxftype() == 'INSERT':\n",
    "            print(\"INSERT translate\", e.dxf.insert, \"rotate\", e.dxf.rotation, \"scale\", e.dxf.xscale, e.dxf.yscale)\n",
    "            lblockcolnum = dfile.layers.get(e.dxf.layer).get_color()\n",
    "            makeentitygroupsrecurse(entitygroupdict, dfile, list(dfile.blocks[e.dxf.name]), lblockcolnum)\n",
    "        elif e.dxftype() == 'MTEXT':\n",
    "            pass\n",
    "        elif e.dxftype() == 'TEXT':\n",
    "            pass\n",
    "        else:\n",
    "            layercol = getlayercol(e, dfile, blockcolnum)\n",
    "            entitygroupdict.setdefault(layercol, []).append(e)\n",
    "    return entitygroupdict\n",
    "\n",
    "def makeentitygroups(dfile):\n",
    "    entitygroupdict = { }\n",
    "    makeentitygroupsrecurse(entitygroupdict, dfile, dfile.entities, 1)\n",
    "    entitygroups = entitygroupdict.items()\n",
    "    layernameorder = dict((n, i)  for i, n in enumerate(l.dxf.name  for l in dfile.layers))\n",
    "    entitygroups.sort(key=lambda X:layernameorder[X[0][0]])\n",
    "    return entitygroups\n",
    "\n",
    "entitygroups = makeentitygroups(dfile)"
   ]
  },
  {
   "cell_type": "code",
   "execution_count": 4,
   "metadata": {},
   "outputs": [],
   "source": [
    "sketch = FreeCAD.ActiveDocument.addObject(\"Sketcher::SketchObject\", \"thing\"); \n",
    "if sketch.ViewObject is not None:\n",
    "    sketch.ViewObject.Visibility = True\n"
   ]
  },
  {
   "cell_type": "code",
   "execution_count": 5,
   "metadata": {},
   "outputs": [
    {
     "name": "stdout",
     "output_type": "stream",
     "text": [
      "('Making sketch', u'1', '#333333')\n",
      "(<class 'ezdxf.modern.lwpolyline.LWPolyline'> LWPOLYLINE(#43), OCCError('',))\n",
      "(<class 'ezdxf.modern.lwpolyline.LWPolyline'> LWPOLYLINE(#47), OCCError('',))\n",
      "(<class 'ezdxf.modern.lwpolyline.LWPolyline'> LWPOLYLINE(#49), OCCError('',))\n",
      "('Making sketch', u'8', '#333333')\n",
      "(<class 'ezdxf.modern.lwpolyline.LWPolyline'> LWPOLYLINE(#44), OCCError('',))\n",
      "(<class 'ezdxf.modern.lwpolyline.LWPolyline'> LWPOLYLINE(#45), OCCError('',))\n",
      "(<class 'ezdxf.modern.lwpolyline.LWPolyline'> LWPOLYLINE(#46), OCCError('',))\n",
      "(<class 'ezdxf.modern.lwpolyline.LWPolyline'> LWPOLYLINE(#48), OCCError('',))\n",
      "(<class 'ezdxf.modern.lwpolyline.LWPolyline'> LWPOLYLINE(#4A), OCCError('',))\n",
      "('Making sketch', u'7', '#333333')\n"
     ]
    }
   ],
   "source": [
    "import math\n",
    "import Draft, Part\n",
    "from FreeCAD import Vector\n",
    "\n",
    "d = None\n",
    "cnorm = Vector(0, 0, 1)\n",
    "for (layer, col), entities in entitygroups:\n",
    "    slayer = str(layer)\n",
    "    if len(slayer) <= 1:\n",
    "        slayer = \"layer_\"+slayer  # Sketcher name is '_' if it's a 1 character number\n",
    "    sketch = FreeCAD.ActiveDocument.addObject(\"Sketcher::SketchObject\", slayer)\n",
    "    if sketch.ViewObject is not None:\n",
    "        sketch.ViewObject.Visibility = True\n",
    "        sketch.ViewObject.LineColor = (int(col[1:3],16)/255.0, int(col[3:5],16)/255.0, int(col[5:7],16)/255.0)\n",
    "    print(\"Making sketch\", layer, col)\n",
    "    for e in entities:\n",
    "        try:\n",
    "            if e.dxftype() == \"LINE\":\n",
    "                if e.dxf.start != e.dxf.end:\n",
    "                    p0 = Vector(e.dxf.start[0], e.dxf.start[1])\n",
    "                    p1 = Vector(e.dxf.end[0], e.dxf.end[1])\n",
    "                    sketch.addGeometry(Part.LineSegment(p0, p1))\n",
    "            elif e.dxftype() == \"CIRCLE\":\n",
    "                cen = Vector(e.dxf.center[0], e.dxf.center[1])\n",
    "                sketch.addGeometry(Part.Circle(cen, cnorm, e.dxf.radius))\n",
    "            elif e.dxftype() == \"ARC\":\n",
    "                cen = Vector(e.dxf.center[0], e.dxf.center[1])\n",
    "                circ = Part.Circle(cen, cnorm, e.dxf.radius)\n",
    "                sketch.addGeometry(Part.ArcOfCircle(circ, math.radians(e.dxf.start_angle), math.radians(e.dxf.end_angle)))\n",
    "            elif e.dxftype() == \"SPLINE\":\n",
    "                cps = [Vector(x[0], x[1])  for x in list(e.control_points)]\n",
    "                bspl = Part.BSplineCurve(cps,None,None,False,e.dxf.degree,None,e.closed)\n",
    "                sketch.addGeometry(bspl)\n",
    "                d = e\n",
    "                \n",
    "            elif e.dxftype() == \"LWPOLYLINE\":\n",
    "                # you can't cheat and use a BSplineCurve of degree 1 here, unfortunately\n",
    "                p0 = Vector(e[0][0], e[0][1])\n",
    "                for i in range(1, len(e)):\n",
    "                    p1 = Vector(e[i][0], e[i][1])\n",
    "                    if p0 != p1:\n",
    "                        sketch.addGeometry(Part.LineSegment(p0, p1))\n",
    "                    p0 = p1\n",
    "                if e.closed:\n",
    "                    p1 = Vector(e[0][0], e[0][1])\n",
    "                    if p0 != p1:\n",
    "                        sketch.addGeometry(Part.LineSegment(p0, p1))\n",
    "\n",
    "            else:\n",
    "                print(\"l\", e.dxftype())\n",
    "        except Part.OCCError as err:\n",
    "            print(e, err)"
   ]
  },
  {
   "cell_type": "code",
   "execution_count": 6,
   "metadata": {},
   "outputs": [],
   "source": [
    "doc.saveCopy(\"test.fcstd\")"
   ]
  },
  {
   "cell_type": "code",
   "execution_count": null,
   "metadata": {},
   "outputs": [],
   "source": []
  },
  {
   "cell_type": "code",
   "execution_count": null,
   "metadata": {},
   "outputs": [],
   "source": [
    "FreeCAD.ActiveDocument.addObject(\"Sketcher::SketchObject\", slayer)\n"
   ]
  },
  {
   "cell_type": "code",
   "execution_count": 15,
   "metadata": {},
   "outputs": [
    {
     "data": {
      "text/plain": [
       "<Document object at 0x5641f3bbf3d0>"
      ]
     },
     "execution_count": 15,
     "metadata": {},
     "output_type": "execute_result"
    }
   ],
   "source": [
    "doc = FreeCAD.ActiveDocument is None:\n",
    "    doc = FreeCAD.newDocument(\"dxfstuff\")\n"
   ]
  },
  {
   "cell_type": "code",
   "execution_count": 17,
   "metadata": {},
   "outputs": [
    {
     "data": {
      "text/plain": [
       "<Document object at 0x5641f3bbf3d0>"
      ]
     },
     "execution_count": 17,
     "metadata": {},
     "output_type": "execute_result"
    }
   ],
   "source": [
    "FreeCAD.activeDocument()"
   ]
  },
  {
   "cell_type": "code",
   "execution_count": null,
   "metadata": {},
   "outputs": [],
   "source": []
  }
 ],
 "metadata": {
  "kernelspec": {
   "display_name": "Python 2",
   "language": "python",
   "name": "python2"
  },
  "language_info": {
   "codemirror_mode": {
    "name": "ipython",
    "version": 2
   },
   "file_extension": ".py",
   "mimetype": "text/x-python",
   "name": "python",
   "nbconvert_exporter": "python",
   "pygments_lexer": "ipython2",
   "version": "2.7.15rc1"
  }
 },
 "nbformat": 4,
 "nbformat_minor": 2
}
