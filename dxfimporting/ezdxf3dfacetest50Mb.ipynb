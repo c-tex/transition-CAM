{
 "cells": [
  {
   "cell_type": "code",
   "execution_count": null,
   "metadata": {},
   "outputs": [],
   "source": [
    "# This to show speed of parsing 50Mb DXF in Python\n",
    "# including display"
   ]
  },
  {
   "cell_type": "code",
   "execution_count": 1,
   "metadata": {},
   "outputs": [
    {
     "name": "stdout",
     "output_type": "stream",
     "text": [
      "File size is 54618242 bytes\n",
      "Time to parse: 35.679078 seconds\n",
      "There are 284692 entities\n"
     ]
    }
   ],
   "source": [
    "import ezdxf, time, os\n",
    "fname = \"/home/julian/Documents/FreeCAD/dxfloadingissues/SAMPLE DXF FILES/torso_uniform.dxf\"\n",
    "print(\"File size is %d bytes\" % os.stat(fname).st_size)\n",
    "t0 = time.time()\n",
    "d = ezdxf.readfile(fname)\n",
    "e = list(d.entities)\n",
    "print(\"Time to parse: %f seconds\" % (time.time() - t0))\n",
    "print(\"There are %d entities\"%len(e))"
   ]
  },
  {
   "cell_type": "code",
   "execution_count": 2,
   "metadata": {},
   "outputs": [],
   "source": [
    "# compact the triangles into a mesh\n",
    "import sys\n",
    "sys.path.append(\"..\")\n",
    "from tribarmes import TriangleBarMesh"
   ]
  },
  {
   "cell_type": "code",
   "execution_count": 3,
   "metadata": {},
   "outputs": [
    {
     "name": "stdout",
     "output_type": "stream",
     "text": [
      "saved 711728 of 854076 points in 12.884996 seconds\n"
     ]
    }
   ],
   "source": [
    "t0 = time.time()\n",
    "flat9triangles = [ ]\n",
    "for t in e:\n",
    "    flat9triangles.append(list(t.dxf.vtx0)+list(t.dxf.vtx1)+list(t.dxf.vtx2))\n",
    "tbm = TriangleBarMesh(flat9triangles=flat9triangles)\n",
    "print(\"saved %d of %d points in %f seconds\" % (len(e)*3 - len(tbm.nodes), len(e)*3, time.time() - t0))"
   ]
  },
  {
   "cell_type": "code",
   "execution_count": 4,
   "metadata": {},
   "outputs": [
    {
     "data": {
      "text/plain": [
       "284692"
      ]
     },
     "execution_count": 4,
     "metadata": {},
     "output_type": "execute_result"
    }
   ],
   "source": [
    "# build and plot figure\n",
    "import numpy\n",
    "x = numpy.array([node.p.x  for node in tbm.nodes])\n",
    "y = numpy.array([node.p.y  for node in tbm.nodes])\n",
    "z = numpy.array([node.p.z  for node in tbm.nodes])\n",
    "triangles = [ ]\n",
    "for bar in tbm.bars:\n",
    "    if bar.barforeright:\n",
    "        node2 = bar.barforeright.GetNodeFore(bar.nodefore == bar.barforeright.nodeback)\n",
    "        if node2.i > bar.nodeback.i:\n",
    "            node0 = bar.nodeback\n",
    "            node1 = bar.nodefore\n",
    "            triangles.append((node0.i, node1.i, node2.i))\n",
    "len(triangles)"
   ]
  },
  {
   "cell_type": "code",
   "execution_count": 8,
   "metadata": {},
   "outputs": [
    {
     "data": {
      "application/vnd.jupyter.widget-view+json": {
       "model_id": "9edac4ab1b624332a4f4e58bb0030118",
       "version_major": 2,
       "version_minor": 0
      },
      "text/plain": [
       "VBox(children=(Figure(camera=PerspectiveCamera(fov=46.0, position=(0.0, 0.0, 2.0), quaternion=(0.0, 0.0, 0.0, …"
      ]
     },
     "metadata": {},
     "output_type": "display_data"
    }
   ],
   "source": [
    "import ipyvolume as ipv\n",
    "ipv.figure()\n",
    "mesh = ipv.plot_trisurf(x, y, z, triangles=triangles, color='orange')\n",
    "ipv.xyzlim(-0.5, 0.5)\n",
    "ipv.show()"
   ]
  },
  {
   "cell_type": "code",
   "execution_count": null,
   "metadata": {},
   "outputs": [],
   "source": []
  }
 ],
 "metadata": {
  "kernelspec": {
   "display_name": "Python 3",
   "language": "python",
   "name": "python3"
  },
  "language_info": {
   "codemirror_mode": {
    "name": "ipython",
    "version": 3
   },
   "file_extension": ".py",
   "mimetype": "text/x-python",
   "name": "python",
   "nbconvert_exporter": "python",
   "pygments_lexer": "ipython3",
   "version": "3.7.4"
  }
 },
 "nbformat": 4,
 "nbformat_minor": 2
}
