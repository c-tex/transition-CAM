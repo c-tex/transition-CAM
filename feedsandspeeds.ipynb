{
 "cells": [
  {
   "cell_type": "code",
   "execution_count": 3,
   "metadata": {},
   "outputs": [],
   "source": [
    "\n",
    "# https://web.archive.org/web/20160613044255/http://www.hsmworks.com:80/docs/cncbook/en/#Ch03_CuttingData\n",
    "\n",
    "SFMarray = { (\"Aluminium\", \"Carbide\"):800, \n",
    "             (\"Aluminium\", \"HSS\"):600, \n",
    "             (\"Polycarbonate\", \"HSS\"):500\n",
    "           }\n",
    "\n",
    "IPRarray = { (\"Aluminium\", \"<.125\"): 0.002,\n",
    "             (\"Aluminium\", \".125-.25\"): 0.002,\n",
    "             (\"Aluminium\", \".25-.5\"): 0.005,\n",
    "             (\"Polycarbonate\", \"<.125\"): 0.001,\n",
    "             (\"Polycarbonate\", \".125-.25\"): 0.003,\n",
    "             (\"Polycarbonate\", \".25-.5\"): 0.006\n",
    "           }\n",
    "\n",
    "\n",
    "def gettdRange(tooldiameterIN):\n",
    "    if tooldiameterIN < 0.125:\n",
    "        tdrg = \"<.125\"\n",
    "    elif tooldiameterIN < 0.25:\n",
    "        tdrg = \".125-.25\"\n",
    "    elif tooldiameterIN < 0.5:\n",
    "        tdrg = \".25-.5\"\n",
    "    return tdrg\n",
    "\n",
    "\n",
    "def FeedSpeed(tooldiameterMM, numflutes, material, cutter):\n",
    "    tooldiameterIN = tooldiameterMM/25.4\n",
    "    SFM = SFMarray[(material, cutter)]\n",
    "    IPR = IPRarray[(material, gettdRange(tooldiameterIN))]\n",
    "    RPM = SFM*3.82/tooldiameterIN\n",
    "    IPM = RPM*IPR*numflutes\n",
    "\n",
    "    feedMMpM = IPM*25.4\n",
    "    spindleRPM = RPM\n",
    "    return feedMMpM, spindleRPM\n",
    "\n",
    "# Recommended Machining Parameters\n",
    "# Mill Roughing Stepover XY 50-80% tool diameter\n",
    "# Mill Roughing Stepdown Z  25-50% of tool diameter\n",
    "\n",
    "# Max spindle is 30000"
   ]
  },
  {
   "cell_type": "code",
   "execution_count": 21,
   "metadata": {},
   "outputs": [
    {
     "name": "stdout",
     "output_type": "stream",
     "text": [
      "Feed, Spindle\n"
     ]
    },
    {
     "data": {
      "text/plain": [
       "(1577.287168, 15524.48)"
      ]
     },
     "execution_count": 21,
     "metadata": {},
     "output_type": "execute_result"
    }
   ],
   "source": [
    "print(\"Feed, Spindle\")\n",
    "FeedSpeed(5, 2, \"Aluminium\", \"Carbide\")"
   ]
  },
  {
   "cell_type": "code",
   "execution_count": 20,
   "metadata": {},
   "outputs": [
    {
     "data": {
      "text/plain": [
       "(1314.4059733333333, 25874.13333333333)"
      ]
     },
     "execution_count": 20,
     "metadata": {},
     "output_type": "execute_result"
    }
   ],
   "source": [
    "FeedSpeed(3, 1, \"Aluminium\", \"Carbide\")"
   ]
  },
  {
   "cell_type": "code",
   "execution_count": 22,
   "metadata": {},
   "outputs": [
    {
     "data": {
      "text/plain": [
       "(739.3533600000001, 14554.2)"
      ]
     },
     "execution_count": 22,
     "metadata": {},
     "output_type": "execute_result"
    }
   ],
   "source": [
    "FeedSpeed(4, 1, \"Aluminium\", \"HSS\")"
   ]
  },
  {
   "cell_type": "code",
   "execution_count": 23,
   "metadata": {},
   "outputs": [],
   "source": []
  },
  {
   "cell_type": "code",
   "execution_count": null,
   "metadata": {},
   "outputs": [],
   "source": []
  }
 ],
 "metadata": {
  "kernelspec": {
   "display_name": "Python 3",
   "language": "python",
   "name": "python3"
  },
  "language_info": {
   "codemirror_mode": {
    "name": "ipython",
    "version": 3
   },
   "file_extension": ".py",
   "mimetype": "text/x-python",
   "name": "python",
   "nbconvert_exporter": "python",
   "pygments_lexer": "ipython3",
   "version": "3.7.0"
  }
 },
 "nbformat": 4,
 "nbformat_minor": 2
}
