{
 "cells": [
  {
   "cell_type": "code",
   "execution_count": 3,
   "metadata": {},
   "outputs": [],
   "source": [
    "import sys\n",
    "freecadpath = \"/home/julian/extrepositories/FreeCAD/freecad-build/lib\"\n",
    "sys.path.append(freecadpath)\n",
    "import FreeCAD\n",
    "import PathScripts.PathJob as PathJob\n",
    "import PathScripts.PathLog as PathLog\n",
    "import PathScripts.PathToolController as PathToolController\n",
    "import PathScripts.PathUtil as PathUtil\n"
   ]
  },
  {
   "cell_type": "code",
   "execution_count": 4,
   "metadata": {},
   "outputs": [],
   "source": [
    "def extractpostlistfromjob(job):\n",
    "    postlist = []\n",
    "    currTool = None\n",
    "    for obj in job.Operations.Group:\n",
    "        PathLog.debug(\"obj: {}\".format(obj.Name))\n",
    "        tc = PathUtil.toolControllerForOp(obj)\n",
    "        if tc is not None:\n",
    "            if tc.ToolNumber != currTool:\n",
    "                postlist.append(tc)\n",
    "                currTool = tc.ToolNumber\n",
    "        postlist.append(obj)\n",
    "    return postlist\n",
    "\n",
    "def extractjobslistfromfile(fname):\n",
    "    doc = FreeCAD.open(fname)\n",
    "    jobs = [o  for o in FreeCAD.ActiveDocument.Objects  if hasattr(o, \"Proxy\") and isinstance(o.Proxy, PathJob.ObjectJob)]\n",
    "    return jobs\n",
    "\n",
    "def extractpostlistfromfile(job):\n",
    "    doc = FreeCAD.open(fname)\n",
    "    job = doc.getObject(\"Job\")\n",
    "    return extractpostlistfromjob(job)\n"
   ]
  },
  {
   "cell_type": "code",
   "execution_count": 5,
   "metadata": {},
   "outputs": [
    {
     "name": "stdout",
     "output_type": "stream",
     "text": [
      "[<Path::FeaturePython object>, <Path::FeaturePython object>, <Path::FeaturePython object>]\n"
     ]
    }
   ],
   "source": [
    "fname = \"/home/julian/data/freecad/swanneck3.fcstd\"\n",
    "fname = \"/home/julian/repositories/transition-CAM/postprocessor/swanneck4.fcstd\"\n",
    "jobs = extractjobslistfromfile(fname)\n",
    "#postlist = extractpostlistfromfile(fname)\n",
    "#postlist = extractpostlistfromfile(fname)\n",
    "print(jobs)"
   ]
  },
  {
   "cell_type": "code",
   "execution_count": 14,
   "metadata": {},
   "outputs": [
    {
     "data": {
      "text/plain": [
       "<Solid object at 0x55d6cc365e20>"
      ]
     },
     "execution_count": 14,
     "metadata": {},
     "output_type": "execute_result"
    }
   ],
   "source": [
    "jobs[0].Model.Group[0].Shape"
   ]
  },
  {
   "cell_type": "code",
   "execution_count": 12,
   "metadata": {},
   "outputs": [
    {
     "name": "stdout",
     "output_type": "stream",
     "text": [
      "[<Path::FeaturePython object>, <Path::FeaturePython object>]\n"
     ]
    }
   ],
   "source": [
    "postlist = extractpostlistfromjob(jobs[1])\n",
    "print(postlist)"
   ]
  },
  {
   "cell_type": "code",
   "execution_count": 13,
   "metadata": {},
   "outputs": [
    {
     "name": "stdout",
     "output_type": "stream",
     "text": [
      "{'lastpos': {'Y': 233.0, 'X': 60.387275, 'Z': 30.0, 'F': 750.0}, 'S': 10000.0, 'cycletype': 'normal', 'firstpos': {'Y': 233.0, 'X': 60.387275, 'Z': 30.0, 'F': 100.0}, 'T': 2.0}\n"
     ]
    }
   ],
   "source": [
    "from kineticnc_post import flattenandgroup\n",
    "tooldefmotions = flattenandgroup(postlist)\n"
   ]
  },
  {
   "cell_type": "code",
   "execution_count": 14,
   "metadata": {},
   "outputs": [
    {
     "data": {
      "text/plain": [
       "{'S': 10000.0,\n",
       " 'T': 2.0,\n",
       " 'cycletype': 'normal',\n",
       " 'firstpos': {'F': 100.0, 'X': 60.387275, 'Y': 233.0, 'Z': 30.0},\n",
       " 'lastpos': {'F': 750.0, 'X': 60.387275, 'Y': 233.0, 'Z': 30.0}}"
      ]
     },
     "execution_count": 14,
     "metadata": {},
     "output_type": "execute_result"
    }
   ],
   "source": [
    "tooldefmotions[0][0]"
   ]
  },
  {
   "cell_type": "code",
   "execution_count": 15,
   "metadata": {},
   "outputs": [],
   "source": [
    "from StringIO import StringIO\n",
    "from kineticnc_post import writetooldefheader, writedrillmotioncmds, writemotioncmds, writefilefooter\n",
    "\n",
    "fout = StringIO()\n",
    "currpos = {}\n",
    "for i, (tooldef, motioncmds) in enumerate(tooldefmotions):\n",
    "    tooldef[\"filename\"] = \"None\"\n",
    "    writetooldefheader(fout, tooldef, i, currpos)\n",
    "    if tooldef[\"cycletype\"] == \"drill\": \n",
    "        writedrillmotioncmds(fout, motioncmds, currpos)\n",
    "    else:\n",
    "        writemotioncmds(fout, motioncmds, currpos)\n",
    "writefilefooter(fout, currpos)\n"
   ]
  },
  {
   "cell_type": "code",
   "execution_count": 16,
   "metadata": {},
   "outputs": [
    {
     "name": "stdout",
     "output_type": "stream",
     "text": [
      "%\n",
      "(Start None)\n",
      "(Exported by FreeCAD)\n",
      "(Post Processor: kineticnc_post)\n",
      "(Output Time: 2018-12-31 18:16:13.046557)\n",
      "G90 (Absolute coordinates)\n",
      "G17 (XY Plane selection)\n",
      "G21 (Programming in mm)\n",
      "G94 (Feedrate per minute)\n",
      "\n",
      "(Diameter: unknown)\n",
      "M6 T2 (Change tool)\n",
      "M3 S10000 (Spindle on)\n",
      "G0 Z30.000 (To clearance plane)\n",
      "G0 X60.387 Y233.000\n",
      "G1 Z30.000 F100 (Set feedrate on spot)\n",
      "G0 \n",
      "Z25.000 \n",
      "G1 Z11.000 \n",
      "G2 X57.287 Z10.900 I-1.550 J0.000 F750.000 \n",
      "G2 X60.387 Z10.800 I1.550 J0.000 \n",
      "G2 X57.287 Z10.700 I-1.550 J0.000 \n",
      "G2 X60.387 Z10.600 I1.550 J0.000 \n",
      "G2 X57.287 Z10.500 I-1.550 J0.000 \n",
      "G2 X60.387 Z10.400 I1.550 J0.000 \n",
      "G2 X57.287 Z10.300 I-1.550 J0.000 \n",
      "G2 X60.387 Z10.200 I1.550 J0.000 \n",
      "G2 X57.287 Z10.100 I-1.550 J0.000 \n",
      "G2 X60.387 Z10.000 I1.550 J0.000 \n",
      "G2 X57.287 Z9.900 I-1.550 J0.000 \n",
      "G2 X60.387 Z9.800 I1.550 J0.000 \n",
      "G2 X57.287 Z9.700 I-1.550 J0.000 \n",
      "G2 X60.387 Z9.600 I1.550 J0.000 \n",
      "G2 X57.287 Z9.500 I-1.550 J0.000 \n",
      "G2 X60.387 Z9.400 I1.550 J0.000 \n",
      "G2 X57.287 Z9.300 I-1.550 J0.000 \n",
      "G2 X60.387 Z9.200 I1.550 J0.000 \n",
      "G2 X57.287 Z9.100 I-1.550 J0.000 \n",
      "G2 X60.387 Z9.000 I1.550 J0.000 \n",
      "G2 X57.287 Z8.900 I-1.550 J0.000 \n",
      "G2 X60.387 Z8.800 I1.550 J0.000 \n",
      "G2 X57.287 Z8.700 I-1.550 J0.000 \n",
      "G2 X60.387 Z8.600 I1.550 J0.000 \n",
      "G2 X57.287 Z8.500 I-1.550 J0.000 \n",
      "G2 X60.387 Z8.400 I1.550 J0.000 \n",
      "G2 X57.287 Z8.300 I-1.550 J0.000 \n",
      "G2 X60.387 Z8.200 I1.550 J0.000 \n",
      "G2 X57.287 Z8.100 I-1.550 J0.000 \n",
      "G2 X60.387 Z8.000 I1.550 J0.000 \n",
      "G2 X57.287 Z7.900 I-1.550 J0.000 \n",
      "G2 X60.387 Z7.800 I1.550 J0.000 \n",
      "G2 X57.287 Z7.700 I-1.550 J0.000 \n",
      "G2 X60.387 Z7.600 I1.550 J0.000 \n",
      "G2 X57.287 Z7.500 I-1.550 J0.000 \n",
      "G2 X60.387 Z7.400 I1.550 J0.000 \n",
      "G2 X57.287 Z7.300 I-1.550 J0.000 \n",
      "G2 X60.387 Z7.200 I1.550 J0.000 \n",
      "G2 X57.287 Z7.100 I-1.550 J0.000 \n",
      "G2 X60.387 Z7.000 I1.550 J0.000 \n",
      "G2 X57.287 Z6.900 I-1.550 J0.000 \n",
      "G2 X60.387 Z6.800 I1.550 J0.000 \n",
      "G2 X57.287 Z6.700 I-1.550 J0.000 \n",
      "G2 X60.387 Z6.600 I1.550 J0.000 \n",
      "G2 X57.287 Z6.500 I-1.550 J0.000 \n",
      "G2 X60.387 Z6.400 I1.550 J0.000 \n",
      "G2 X57.287 Z6.300 I-1.550 J0.000 \n",
      "G2 X60.387 Z6.200 I1.550 J0.000 \n",
      "G2 X57.287 Z6.100 I-1.550 J0.000 \n",
      "G2 X60.387 Z6.000 I1.550 J0.000 \n",
      "G2 X57.287 Z5.900 I-1.550 J0.000 \n",
      "G2 X60.387 Z5.800 I1.550 J0.000 \n",
      "G2 X57.287 Z5.700 I-1.550 J0.000 \n",
      "G2 X60.387 Z5.600 I1.550 J0.000 \n",
      "G2 X57.287 Z5.500 I-1.550 J0.000 \n",
      "G2 X60.387 Z5.400 I1.550 J0.000 \n",
      "G2 X57.287 Z5.300 I-1.550 J0.000 \n",
      "G2 X60.387 Z5.200 I1.550 J0.000 \n",
      "G2 X57.287 Z5.100 I-1.550 J0.000 \n",
      "G2 X60.387 Z5.000 I1.550 J0.000 \n",
      "G2 X57.287 Z4.900 I-1.550 J0.000 \n",
      "G2 X60.387 Z4.800 I1.550 J0.000 \n",
      "G2 X57.287 Z4.700 I-1.550 J0.000 \n",
      "G2 X60.387 Z4.600 I1.550 J0.000 \n",
      "G2 X57.287 Z4.500 I-1.550 J0.000 \n",
      "G2 X60.387 Z4.400 I1.550 J0.000 \n",
      "G2 X57.287 Z4.300 I-1.550 J0.000 \n",
      "G2 X60.387 Z4.200 I1.550 J0.000 \n",
      "G2 X57.287 Z4.100 I-1.550 J0.000 \n",
      "G2 X60.387 Z4.000 I1.550 J0.000 \n",
      "G2 X57.287 Z3.900 I-1.550 J0.000 \n",
      "G2 X60.387 Z3.800 I1.550 J0.000 \n",
      "G2 X57.287 Z3.700 I-1.550 J0.000 \n",
      "G2 X60.387 Z3.600 I1.550 J0.000 \n",
      "G2 X57.287 Z3.500 I-1.550 J0.000 \n",
      "G2 X60.387 Z3.400 I1.550 J0.000 \n",
      "G2 X57.287 Z3.300 I-1.550 J0.000 \n",
      "G2 X60.387 Z3.200 I1.550 J0.000 \n",
      "G2 X57.287 Z3.100 I-1.550 J0.000 \n",
      "G2 X60.387 Z3.000 I1.550 J0.000 \n",
      "G2 X57.287 Z2.900 I-1.550 J0.000 \n",
      "G2 X60.387 Z2.800 I1.550 J0.000 \n",
      "G2 X57.287 Z2.700 I-1.550 J0.000 \n",
      "G2 X60.387 Z2.600 I1.550 J0.000 \n",
      "G2 X57.287 Z2.500 I-1.550 J0.000 \n",
      "G2 X60.387 Z2.400 I1.550 J0.000 \n",
      "G2 X57.287 Z2.300 I-1.550 J0.000 \n",
      "G2 X60.387 Z2.200 I1.550 J0.000 \n",
      "G2 X57.287 Z2.100 I-1.550 J0.000 \n",
      "G2 X60.387 Z2.000 I1.550 J0.000 \n",
      "G2 X57.287 Z1.900 I-1.550 J0.000 \n",
      "G2 X60.387 Z1.800 I1.550 J0.000 \n",
      "G2 X57.287 Z1.700 I-1.550 J0.000 \n",
      "G2 X60.387 Z1.600 I1.550 J0.000 \n",
      "G2 X57.287 Z1.500 I-1.550 J0.000 \n",
      "G2 X60.387 Z1.400 I1.550 J0.000 \n",
      "G2 X57.287 Z1.300 I-1.550 J0.000 \n",
      "G2 X60.387 Z1.200 I1.550 J0.000 \n",
      "G2 X57.287 Z1.100 I-1.550 J0.000 \n",
      "G2 X60.387 Z1.000 I1.550 J0.000 \n",
      "G2 X57.287 Z0.900 I-1.550 J0.000 \n",
      "G2 X60.387 Z0.800 I1.550 J0.000 \n",
      "G2 X57.287 Z0.700 I-1.550 J0.000 \n",
      "G2 X60.387 Z0.600 I1.550 J0.000 \n",
      "G2 X57.287 Z0.500 I-1.550 J0.000 \n",
      "G2 X60.387 Z0.400 I1.550 J0.000 \n",
      "G2 X57.287 Z0.300 I-1.550 J0.000 \n",
      "G2 X60.387 Z0.200 I1.550 J0.000 \n",
      "G2 X57.287 Z0.100 I-1.550 J0.000 \n",
      "G2 X60.387 Z0.000 I1.550 J0.000 \n",
      "G2 X57.287 Z-0.100 I-1.550 J0.000 \n",
      "G2 X60.387 Z-0.200 I1.550 J0.000 \n",
      "G2 X57.287 I-1.550 J0.000 \n",
      "G2 X60.387 I1.550 J0.000 \n",
      "G0 Z25.000 \n",
      "Z30.000 \n",
      "M5 (Spindle off)\n",
      "M30 (End of program)\n",
      "%\n"
     ]
    }
   ],
   "source": [
    "print(fout.getvalue())"
   ]
  },
  {
   "cell_type": "code",
   "execution_count": null,
   "metadata": {},
   "outputs": [],
   "source": []
  },
  {
   "cell_type": "code",
   "execution_count": null,
   "metadata": {},
   "outputs": [],
   "source": []
  }
 ],
 "metadata": {
  "kernelspec": {
   "display_name": "Python 2",
   "language": "python",
   "name": "python2"
  },
  "language_info": {
   "codemirror_mode": {
    "name": "ipython",
    "version": 2
   },
   "file_extension": ".py",
   "mimetype": "text/x-python",
   "name": "python",
   "nbconvert_exporter": "python",
   "pygments_lexer": "ipython2",
   "version": "2.7.15rc1"
  }
 },
 "nbformat": 4,
 "nbformat_minor": 2
}
