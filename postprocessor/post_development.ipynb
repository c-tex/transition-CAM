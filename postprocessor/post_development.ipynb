{
 "cells": [
  {
   "cell_type": "code",
   "execution_count": 1,
   "metadata": {},
   "outputs": [],
   "source": [
    "import sys\n",
    "freecadpath = \"/home/julian/extrepositories/FreeCAD/freecad-build/lib\"\n",
    "sys.path.append(freecadpath)\n",
    "import FreeCAD\n",
    "import PathScripts.PathJob as PathJob\n",
    "import PathScripts.PathLog as PathLog\n",
    "import PathScripts.PathToolController as PathToolController\n",
    "import PathScripts.PathUtil as PathUtil\n"
   ]
  },
  {
   "cell_type": "code",
   "execution_count": 2,
   "metadata": {},
   "outputs": [],
   "source": [
    "def extractpostlistfromjob(job):\n",
    "    postlist = []\n",
    "    currTool = None\n",
    "    for obj in job.Operations.Group:\n",
    "        PathLog.debug(\"obj: {}\".format(obj.Name))\n",
    "        tc = PathUtil.toolControllerForOp(obj)\n",
    "        if tc is not None:\n",
    "            if tc.ToolNumber != currTool:\n",
    "                postlist.append(tc)\n",
    "                currTool = tc.ToolNumber\n",
    "        postlist.append(obj)\n",
    "    return postlist\n",
    "\n",
    "def extractjobslistfromfile(fname):\n",
    "    doc = FreeCAD.open(fname)\n",
    "    jobs = [o  for o in FreeCAD.ActiveDocument.Objects  if hasattr(o, \"Proxy\") and isinstance(o.Proxy, PathJob.ObjectJob)]\n",
    "    return jobs\n",
    "\n",
    "def extractpostlistfromfile(job):\n",
    "    doc = FreeCAD.open(fname)\n",
    "    job = doc.getObject(\"Job\")\n",
    "    return extractpostlistfromjob(job)\n"
   ]
  },
  {
   "cell_type": "code",
   "execution_count": 3,
   "metadata": {},
   "outputs": [
    {
     "name": "stdout",
     "output_type": "stream",
     "text": [
      "[<Path::FeaturePython object>, <Path::FeaturePython object>]\n"
     ]
    }
   ],
   "source": [
    "fname = \"/home/julian/data/freecad/swanneck3.fcstd\"\n",
    "jobs = extractjobslistfromfile(fname)\n",
    "#postlist = extractpostlistfromfile(fname)\n",
    "#postlist = extractpostlistfromfile(fname)\n",
    "print(jobs)"
   ]
  },
  {
   "cell_type": "code",
   "execution_count": 4,
   "metadata": {},
   "outputs": [
    {
     "name": "stdout",
     "output_type": "stream",
     "text": [
      "[<Path::FeaturePython object>, <Path::FeaturePython object>]\n"
     ]
    }
   ],
   "source": [
    "postlist = extractpostlistfromjob(jobs[1])\n",
    "print(postlist)"
   ]
  },
  {
   "cell_type": "code",
   "execution_count": 5,
   "metadata": {},
   "outputs": [
    {
     "name": "stdout",
     "output_type": "stream",
     "text": [
      "kineticnc_post gcode postprocessor loaded.\n"
     ]
    }
   ],
   "source": [
    "from kineticnc_post import flattenandgroup\n",
    "postfeature = postlist[0]\n",
    "tooldefmotions = flattenandgroup(postlist)\n"
   ]
  },
  {
   "cell_type": "code",
   "execution_count": 6,
   "metadata": {},
   "outputs": [
    {
     "data": {
      "text/plain": [
       "[]"
      ]
     },
     "execution_count": 6,
     "metadata": {},
     "output_type": "execute_result"
    }
   ],
   "source": [
    "tooldefmotions"
   ]
  },
  {
   "cell_type": "code",
   "execution_count": 7,
   "metadata": {},
   "outputs": [],
   "source": [
    "from StringIO import StringIO\n",
    "from kineticnc_post import writetooldefheader, writemotioncmds, writefilefooter\n",
    "\n",
    "fout = StringIO()\n",
    "currpos = {}\n",
    "for tooldef, motioncmds in tooldefmotions:\n",
    "    tooldef[\"filename\"] = \"hi\"\n",
    "    writetooldefheader(fout, tooldef, currpos)\n",
    "    writemotioncmds(fout, motioncmds, currpos)\n",
    "writefilefooter(fout, currpos)\n"
   ]
  },
  {
   "cell_type": "code",
   "execution_count": null,
   "metadata": {},
   "outputs": [],
   "source": []
  },
  {
   "cell_type": "code",
   "execution_count": null,
   "metadata": {},
   "outputs": [],
   "source": []
  },
  {
   "cell_type": "code",
   "execution_count": null,
   "metadata": {},
   "outputs": [],
   "source": []
  }
 ],
 "metadata": {
  "kernelspec": {
   "display_name": "Python 2",
   "language": "python",
   "name": "python2"
  },
  "language_info": {
   "codemirror_mode": {
    "name": "ipython",
    "version": 2
   },
   "file_extension": ".py",
   "mimetype": "text/x-python",
   "name": "python",
   "nbconvert_exporter": "python",
   "pygments_lexer": "ipython2",
   "version": "2.7.15rc1"
  }
 },
 "nbformat": 4,
 "nbformat_minor": 2
}
