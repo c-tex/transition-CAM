{
 "cells": [
  {
   "cell_type": "markdown",
   "metadata": {},
   "source": [
    "Access to the nester in the arch workbench\n",
    "for the purpose of reusing it from the Path workbench"
   ]
  },
  {
   "cell_type": "code",
   "execution_count": 2,
   "metadata": {},
   "outputs": [],
   "source": [
    "import sys\n",
    "freecadpath = \"/home/julian/extrepositories/FreeCAD/freecad-build/lib\"\n",
    "sys.path.append(freecadpath)\n",
    "import FreeCAD\n",
    "\n"
   ]
  },
  {
   "cell_type": "code",
   "execution_count": 3,
   "metadata": {},
   "outputs": [],
   "source": [
    "doc = FreeCAD.open(\"nesttest.fcstd\")\n",
    "objs = doc.Objects"
   ]
  },
  {
   "cell_type": "code",
   "execution_count": 4,
   "metadata": {},
   "outputs": [
    {
     "name": "stdout",
     "output_type": "stream",
     "text": [
      "('Hard-coded rotations', [0, 90, 180, 270])\n"
     ]
    }
   ],
   "source": [
    "# separate out the rectangle from the other shapes\n",
    "rectangles = [ obj  for obj in objs  if obj.Label == \"Rectangle\" ]\n",
    "shapes = [ obj  for obj in objs  if obj.Label != \"Rectangle\" ]\n",
    "len(rectangles), len(shapes)\n",
    "\n",
    "import Arch\n",
    "print(\"Hard-coded rotations\", Arch.ArchNesting.ROTATIONS)\n",
    "nest = Arch.ArchNesting.Nester(rectangles[0].Shape, [sh.Shape  for sh in shapes])"
   ]
  },
  {
   "cell_type": "code",
   "execution_count": 10,
   "metadata": {},
   "outputs": [
    {
     "data": {
      "text/plain": [
       "(<Face object at 0x5583044ee200>,\n",
       " <Face object at 0x5583044ebbd0>,\n",
       " Placement [Pos=(-1.78952,1.11,0), Yaw-Pitch-Roll=(90,0,0)])"
      ]
     },
     "execution_count": 10,
     "metadata": {},
     "output_type": "execute_result"
    }
   ],
   "source": [
    "obj = shapes[0]\n",
    "obj.Shape, rectangles[0].Shape, obj.Placement"
   ]
  },
  {
   "cell_type": "code",
   "execution_count": 24,
   "metadata": {},
   "outputs": [
    {
     "name": "stdout",
     "output_type": "stream",
     "text": [
      "Executing conformity tests ... Everything OK ( 0:00:00.035020 )\n",
      "Placing piece 1 / 8 Area: 1.01 mm^2 : 0 , 90 , 180 , 270 , Adding piece to sheet 1\n",
      "Placing piece 2 / 8 Area: 0.50 mm^2 : 0 , 90 , 180 , 270 , Adding piece to sheet 1\n",
      "Placing piece 3 / 8 Area: 0.45 mm^2 : 0 , 90 , 180 , 270 , Adding piece to sheet 1\n",
      "Placing piece 4 / 8 Area: 0.44 mm^2 : 0 , 90 , 180 , 270 , Adding piece to sheet 1\n",
      "Placing piece 5 / 8 Area: 0.44 mm^2 : 0 , 90 , 180 , 270 , Adding piece to sheet 1\n",
      "Placing piece 6 / 8 Area: 0.44 mm^2 : 0 , 90 , 180 , 270 , Adding piece to sheet 1\n",
      "Placing piece 7 / 8 Area: 0.44 mm^2 : 0 , 90 , 180 , 270 , Adding piece to sheet 1\n",
      "Placing piece 8 / 8 Area: 0.01 mm^2 : 0 , 90 , 180 , 270 , Adding piece to sheet 1\n",
      "Run time: 0:00:05.200325\n"
     ]
    },
    {
     "data": {
      "text/plain": [
       "[[[727393011, <Face object at 0x5598a8187be0>],\n",
       "  [727394499, <Face object at 0x5598a819a6d0>],\n",
       "  [723834019, <Face object at 0x5598a83734f0>],\n",
       "  [725076067, <Face object at 0x5598a8f90830>],\n",
       "  [725059859, <Face object at 0x5598a98aecb0>],\n",
       "  [727519155, <Face object at 0x5598aa156b90>],\n",
       "  [724396147, <Face object at 0x5598aa58f670>],\n",
       "  [680460499, <Face object at 0x5598aa5e0ee0>]]]"
      ]
     },
     "execution_count": 24,
     "metadata": {},
     "output_type": "execute_result"
    }
   ],
   "source": [
    "nest.run()"
   ]
  },
  {
   "cell_type": "code",
   "execution_count": 29,
   "metadata": {},
   "outputs": [
    {
     "data": {
      "text/plain": [
       "[[[[727393011, <Face object at 0x5598a8187be0>],\n",
       "   [727394499, <Face object at 0x5598a819a6d0>],\n",
       "   [723834019, <Face object at 0x5598a83734f0>],\n",
       "   [725076067, <Face object at 0x5598a8f90830>],\n",
       "   [725059859, <Face object at 0x5598a98aecb0>],\n",
       "   [727519155, <Face object at 0x5598aa156b90>],\n",
       "   [724396147, <Face object at 0x5598aa58f670>],\n",
       "   [680460499, <Face object at 0x5598aa5e0ee0>]]]]"
      ]
     },
     "execution_count": 29,
     "metadata": {},
     "output_type": "execute_result"
    }
   ],
   "source": [
    "nest.results"
   ]
  },
  {
   "cell_type": "code",
   "execution_count": 33,
   "metadata": {},
   "outputs": [
    {
     "data": {
      "text/plain": [
       "{680460499: Placement [Pos=(5.30793,-5.63613,0), Yaw-Pitch-Roll=(0,0,0)],\n",
       " 723834019: Placement [Pos=(2.52673,-3.1155,0), Yaw-Pitch-Roll=(nan,nan,nan)],\n",
       " 724396147: Placement [Pos=(2.69196,-3.04811,0), Yaw-Pitch-Roll=(90,0,0)],\n",
       " 725059859: Placement [Pos=(2.14379,-4.04661,0), Yaw-Pitch-Roll=(-90,0,-0)],\n",
       " 725076067: Placement [Pos=(1.37124,-3.29401,0), Yaw-Pitch-Roll=(180,-0,0)],\n",
       " 727393011: Placement [Pos=(2.03549,-3.07894,0), Yaw-Pitch-Roll=(180,0,0)],\n",
       " 727394499: Placement [Pos=(5.81377,-1.07643,0), Yaw-Pitch-Roll=(0,0,0)],\n",
       " 727519155: Placement [Pos=(2.70231,-2.72211,0), Yaw-Pitch-Roll=(-90,0,0)]}"
      ]
     },
     "execution_count": 33,
     "metadata": {},
     "output_type": "execute_result"
    }
   ],
   "source": [
    "nest.getPlacements()"
   ]
  },
  {
   "cell_type": "code",
   "execution_count": 10,
   "metadata": {},
   "outputs": [
    {
     "data": {
      "text/plain": [
       "'Face'"
      ]
     },
     "execution_count": 10,
     "metadata": {},
     "output_type": "execute_result"
    }
   ],
   "source": [
    "obj.Shape.ShapeType"
   ]
  },
  {
   "cell_type": "code",
   "execution_count": 12,
   "metadata": {},
   "outputs": [],
   "source": []
  },
  {
   "cell_type": "code",
   "execution_count": null,
   "metadata": {},
   "outputs": [],
   "source": []
  }
 ],
 "metadata": {
  "kernelspec": {
   "display_name": "Python 2",
   "language": "python",
   "name": "python2"
  },
  "language_info": {
   "codemirror_mode": {
    "name": "ipython",
    "version": 2
   },
   "file_extension": ".py",
   "mimetype": "text/x-python",
   "name": "python",
   "nbconvert_exporter": "python",
   "pygments_lexer": "ipython2",
   "version": "2.7.15rc1"
  }
 },
 "nbformat": 4,
 "nbformat_minor": 2
}
