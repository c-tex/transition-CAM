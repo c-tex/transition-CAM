{
 "cells": [
  {
   "cell_type": "markdown",
   "metadata": {},
   "source": [
    "Deployed use of SVGnest of flat shapes in a stock area\n",
    "\n",
    "There is no chance of SVGnest being linked into FC, because it's implemented in Javascript.  However, it can be called externally using an interface defined by the SVG notation, and the original shapes with their new orientations found in the output.  \n",
    "\n",
    "This is a good thing, because heavy computations should not be done in the same process as FC, because you don't want them bringing the whole thing down when they fail, and they can run asynchronously.  We should take advantage of this indirection."
   ]
  },
  {
   "cell_type": "markdown",
   "metadata": {},
   "source": [
    "#### Deployed use of SVGnest of flat shapes in a stock area\n",
    "\n",
    "Some small annoyances:\n",
    "\n",
    "Issue 5) Cannot select other solid as stock (it deselects it for me).\n",
    "\n",
    "Issue 6) If I load a FC file in a script and save it, the Job gets ruined.\n",
    "\n",
    "Where is the best place to file these sorts of little issues?  The FC bug list discourages putting things in there, and they seem too small. \n",
    "\n",
    "------\n",
    "\n",
    "It would be transformative to have a good nesting feature for use in water jet or laser cutting.  \n",
    "\n",
    "The natural integration would be make it a feature of the Path workbench and apply it to a Job, because it has both a stock body and a list of bodies to cut.  \n",
    "\n",
    "I've tried to make a that did this using the nester in arch (announced at ...), but it's too underdeveloped, and probably can't ever be good because it's a minor feature among thousands in FC.  \n",
    "\n",
    "The only open source nester around is SVGnest, which is written in Javascript, so is never going to be linked in as part of the FC executable.  Therefore it can only be run in another process by passing files to it on the disk.  \n",
    "\n",
    "This is actually a good thing, because self-contained computationally intensive processes should always be done their own process (or preferably on a completely different machine) so they don't bring down the whole UI when they overflow and crash, and can operate asyncronously.  \n",
    "\n",
    "So I have written macros that can both (A) export the geometry to an SVG file, and (B) read the output from SVGnest (after you have run it in a browser somewhere else) and copies the positions of each piece into the Placement of the corresponding Body.  \n",
    "\n",
    "This is barely useable, but a lot better than nothing.  The SVGnest can take any shape as input, (not only rectangles) so you can route your parts around the clamps or holes in the stock.  Perhaps the shape of the stock can be acquired using an over-head camera.  \n",
    "\n",
    "\n"
   ]
  },
  {
   "cell_type": "code",
   "execution_count": 2,
   "metadata": {},
   "outputs": [],
   "source": [
    "# Import the modules\n",
    "import sys\n",
    "freecadpath = \"/home/julian/extrepositories/FreeCAD/freecad-build/lib\"\n",
    "sys.path.append(freecadpath)\n",
    "import FreeCAD\n",
    "doc = FreeCAD.open(\"/home/julian/data/freecad/nestdemo.fcstd\")"
   ]
  },
  {
   "cell_type": "code",
   "execution_count": 3,
   "metadata": {},
   "outputs": [],
   "source": [
    "# Function to extract the flat bottom face of each body\n",
    "from FreeCAD import Vector\n",
    "def GetBaseFace(shape):\n",
    "    basefaces = [ ]\n",
    "    for face in shape.Faces:\n",
    "        #print(face.Surface.isPlanar(), face.Surface.Axis, face.Surface.Position)\n",
    "        if face.Surface.isPlanar():\n",
    "            if abs(face.Surface.Axis.z) == 1 and face.Surface.Position.z == 0:\n",
    "                basefaces.append(face)\n",
    "    assert len(basefaces) == 1, len(basefaces)\n",
    "    return basefaces[0]\n"
   ]
  },
  {
   "cell_type": "code",
   "execution_count": 4,
   "metadata": {},
   "outputs": [
    {
     "name": "stdout",
     "output_type": "stream",
     "text": [
      "(<Face object at 0x55d82b5eeb70>, [<Face object at 0x55d82b5e8bf0>, <Face object at 0x55d82ae1d560>, <Face object at 0x55d82b5c8f40>])\n"
     ]
    }
   ],
   "source": [
    "job = doc.Job\n",
    "\n",
    "stockface = GetBaseFace(job.Stock.Shape)\n",
    "partfaces = [ ]\n",
    "for part in job.Model.Group:\n",
    "    partfaces.append(GetBaseFace(part.Shape))\n",
    "\n",
    "print(stockface, partfaces)"
   ]
  },
  {
   "cell_type": "markdown",
   "metadata": {},
   "source": [
    "## Skip to Option 3 below for the real solution   \n",
    "# VVV"
   ]
  },
  {
   "cell_type": "code",
   "execution_count": 7,
   "metadata": {},
   "outputs": [
    {
     "data": {
      "text/plain": [
       "<ArchNesting.Nester instance at 0x7f880bdd3290>"
      ]
     },
     "execution_count": 7,
     "metadata": {},
     "output_type": "execute_result"
    }
   ],
   "source": [
    "#\n",
    "# Option 1, use the Nester in FC (though not as complete as SVGnest)\n",
    "#\n",
    "import Arch\n",
    "nest = Arch.ArchNesting.Nester(stockface, partfaces)\n",
    "nest"
   ]
  },
  {
   "cell_type": "code",
   "execution_count": 35,
   "metadata": {},
   "outputs": [
    {
     "name": "stdout",
     "output_type": "stream",
     "text": [
      "<g   fill=\"none\"\n",
      "   stroke=\"rgb(0, 0, 0)\"\n",
      "   stroke-linecap=\"butt\"\n",
      "   stroke-linejoin=\"miter\"\n",
      "   stroke-width=\"1.0\"\n",
      "   transform=\"scale(1,-1)\"\n",
      "  >\n",
      "<path id= \"1\" d=\" M 0 0 L 0 30 \" />\n",
      "<path id= \"2\" d=\" M 0 30 L 50 30 \" />\n",
      "<path id= \"3\" d=\" M 50 0 L 50 30 \" />\n",
      "<path id= \"4\" d=\" M 0 0 L 50 0 \" />\n",
      "</g>\n",
      "\n"
     ]
    }
   ],
   "source": [
    "#\n",
    "# Option 2, use the projection function converted to SVG face \n",
    "#\n",
    "# It uses ProjectionAlgos which calls into HLRBRep_Algo of OCC \n",
    "# to do the projection of the shapes (even though they are flat and \n",
    "# We don't want to project them).  \n",
    "# The result of the projection goes to SVGOutput::exportEdges()\n",
    "# which applies BRepAdaptor_Curve (from OCC) to each edge \n",
    "# of the now projected TopoDS_Shape to generates the actual \n",
    "# SVG code (printCircle, etc), including styles (which we also don't want).  \n",
    "\n",
    "import Drawing\n",
    "x = Drawing.projectToSVG(stockface, Vector(0,0,1))\n",
    "print(x)"
   ]
  },
  {
   "cell_type": "code",
   "execution_count": 5,
   "metadata": {},
   "outputs": [],
   "source": [
    "#\n",
    "# Extract the geometry from within the cruft that has been \n",
    "# included in this SVG text\n",
    "# \n",
    "\n",
    "import re\n",
    "def concatsvgpaths(svgtext):\n",
    "    dlist = [ ]\n",
    "    lastpt = None\n",
    "    for ctype, ctext in re.findall('<(path|circle)(.*?)/>', svgtext):\n",
    "        if ctype == 'path':\n",
    "            dtext = re.search('d=\"(.*?)\"', ctext).group(1)\n",
    "            dvals = dtext.split()\n",
    "            if lastpt is not None and len(dvals) and \\\n",
    "                    dvals[0] == 'M' and dvals[1:3] == lastpt:\n",
    "                dlist.append(\" \".join(dvals[3:]))\n",
    "            else:\n",
    "                dlist.append(dtext.strip())\n",
    "            lastpt = dvals[-2:]\n",
    "        else:\n",
    "            assert False, (ctype, \"Not implemented\")\n",
    "    return \" \".join(dlist)\n",
    "        \n",
    "                    "
   ]
  },
  {
   "cell_type": "code",
   "execution_count": null,
   "metadata": {},
   "outputs": [],
   "source": []
  },
  {
   "cell_type": "code",
   "execution_count": 34,
   "metadata": {},
   "outputs": [],
   "source": [
    "svgstock = concatsvgpaths(Drawing.projectToSVG(stockface, Vector(0,0,1)))\n",
    "svgparts = [ concatsvgpaths(Drawing.projectToSVG(partface, Vector(0,0,1)))  for partface in partfaces ]\n",
    "\n",
    "# This almost works\n",
    "svgstock = 'M 0 0 L 0 30 L 50 30 L 50 0 L 0 0'  # redo as not sequential\n",
    "fout = open(\"svgnestinput.svg\", \"w\")\n",
    "fout.write('<svg xmlns=\"http://www.w3.org/2000/svg\" viewBox=\"-20 -20 40 40\">\\n')\n",
    "fout.write('<path d=\"%s\"/>\\n' % svgstock)\n",
    "for svgpart in svgparts:\n",
    "    fout.write('<path d=\"%s\"/>\\n' % svgpart)\n",
    "fout.write(\"</svg>\\n\")\n",
    "fout.close()\n",
    "\n",
    "# now upload to https://svgnest.com/ (which runs in *your* browser, not on their server)"
   ]
  },
  {
   "cell_type": "markdown",
   "metadata": {},
   "source": [
    "## Option 3"
   ]
  },
  {
   "cell_type": "code",
   "execution_count": 6,
   "metadata": {},
   "outputs": [
    {
     "data": {
      "text/plain": [
       "[Command G90 [ ],\n",
       " Command G17 [ ],\n",
       " Command G0 [ ],\n",
       " Command G0 [ X:132.14 Y:88.24 ],\n",
       " Command G1 [ X:132.14 Y:88.24 Z:0 ],\n",
       " Command G1 [ X:132.14 Y:-11.76 Z:0 ],\n",
       " Command G1 [ X:-67.863 Y:-11.76 Z:0 ],\n",
       " Command G1 [ X:-67.863 Y:88.24 Z:0 ],\n",
       " Command G1 [ X:132.14 Y:88.24 Z:0 ]]"
      ]
     },
     "execution_count": 6,
     "metadata": {},
     "output_type": "execute_result"
    }
   ],
   "source": [
    "#\n",
    "# Option 3, use the  \n",
    "# (even though it's already flat, so we don't want anything projecting)\n",
    "#\n",
    "# Path.fromShapes is C-code that ultimately depends on BRepAdaptor_Curve\n",
    "# But internally orders the Wires so that the paths come out in sequence.\n",
    "# However, I wish I could get to the raw shapes themselves, before they \n",
    "# are unnecessarily converted into this Path Command format.\n",
    "#\n",
    "import Path\n",
    "x = Path.fromShapes(stockface) # which is C-code\n",
    "(x.Commands)"
   ]
  },
  {
   "cell_type": "code",
   "execution_count": 12,
   "metadata": {},
   "outputs": [],
   "source": [
    "import math\n",
    "def pathcmdstosvg(cmds, bbox):\n",
    "    dlist = [ ]\n",
    "    prevX, prevY = None, None\n",
    "    for cmd in cmds:\n",
    "        X, Y = cmd.Parameters.get('X'), cmd.Parameters.get('Y')\n",
    "        if X is None or Y is None:\n",
    "            prevX, prevY = None, None\n",
    "            continue\n",
    "        elif cmd.Name == 'G1' and X == prevX and Y == prevY:\n",
    "            continue\n",
    "        \n",
    "        if cmd.Name == 'G0':\n",
    "            dlist.append(\"M%f %f\" % (X, Y))\n",
    "        elif cmd.Name == 'G1':\n",
    "            dlist.append(\"L%f %f\" % (X, Y))\n",
    "        elif cmd.Name in ['G2', 'G3']:\n",
    "            arcrad = math.hypot(cmd.Parameters.get('I'), cmd.Parameters.get('J'))\n",
    "            largarcflag = 0\n",
    "            sweepflag = 0 if cmd.Name == 'G2' else 1\n",
    "            dlist.append(\"A%f %f 0 %d %d %f %f\" % (arcrad, arcrad, largarcflag, sweepflag, X, Y))\n",
    "        else:\n",
    "            assert False, (cmd.Name, \"not implemented\")\n",
    "        prevX, prevY = X, Y\n",
    "        \n",
    "        if \"Xlo\" not in bbox or X < bbox[\"Xlo\"]:  bbox[\"Xlo\"] = X\n",
    "        if \"Xhi\" not in bbox or X > bbox[\"Xhi\"]:  bbox[\"Xhi\"] = X\n",
    "        if \"Ylo\" not in bbox or Y < bbox[\"Ylo\"]:  bbox[\"Ylo\"] = Y\n",
    "        if \"Yhi\" not in bbox or Y > bbox[\"Yhi\"]:  bbox[\"Yhi\"] = Y\n",
    "            \n",
    "    return \"\".join(dlist)\n",
    "\n"
   ]
  },
  {
   "cell_type": "code",
   "execution_count": 8,
   "metadata": {},
   "outputs": [
    {
     "data": {
      "text/plain": [
       "[<Face object at 0x55d82b5e8bf0>,\n",
       " <Face object at 0x55d82ae1d560>,\n",
       " <Face object at 0x55d82b5c8f40>]"
      ]
     },
     "execution_count": 8,
     "metadata": {},
     "output_type": "execute_result"
    }
   ],
   "source": [
    "partfaces"
   ]
  },
  {
   "cell_type": "code",
   "execution_count": 13,
   "metadata": {},
   "outputs": [
    {
     "data": {
      "text/plain": [
       "'M-23.112174 18.013507L-12.297852 12.027573L-34.866428 -11.760233L-57.980099 2.108736L-25.594664 9.179181L-63.651543 18.784637A10.433051 10.433051 0 0 0 -58.408873 37.550903L-23.112174 18.013507'"
      ]
     },
     "execution_count": 13,
     "metadata": {},
     "output_type": "execute_result"
    }
   ],
   "source": [
    "partface = partfaces[0]\n",
    "bbox = {}\n",
    "pathcmdstosvg(Path.fromShapes(partface).Commands, bbox)"
   ]
  },
  {
   "cell_type": "code",
   "execution_count": 61,
   "metadata": {},
   "outputs": [],
   "source": [
    "bbox = { }\n",
    "svgstock = pathcmdstosvg(Path.fromShapes(stockface).Commands, bbox)\n",
    "svgparts = [ pathcmdstosvg(Path.fromShapes(partface).Commands, bbox)  for partface in partfaces ]\n",
    "\n",
    "fout = open(\"svgnestinput.svg\", \"w\")\n",
    "fout.write('<svg xmlns=\"http://www.w3.org/2000/svg\" viewBox=\"%f %f %f %f\">\\n' % \\\n",
    "            (bbox[\"Xlo\"], bbox[\"Ylo\"], max(bbox[\"Xhi\"]-bbox[\"Xlo\"], 200), max(bbox[\"Yhi\"]-bbox[\"Ylo\"], 200)))\n",
    "fout.write('<path id=\"stock\" d=\"%s\"/>\\n' % svgstock)\n",
    "for i, svgpart in enumerate(svgparts):\n",
    "    fout.write('<path id=\"part%d\" d=\"%s\"/>\\n' % (i, svgpart))\n",
    "fout.write(\"</svg>\\n\")\n",
    "fout.close()\n"
   ]
  },
  {
   "cell_type": "code",
   "execution_count": 15,
   "metadata": {},
   "outputs": [],
   "source": [
    "# Then upload, run SVGnest and download to file\n",
    "svgnestoutput = \"/home/julian/Downloads/SVGnest-output(9).svg\""
   ]
  },
  {
   "cell_type": "code",
   "execution_count": 17,
   "metadata": {},
   "outputs": [
    {
     "name": "stdout",
     "output_type": "stream",
     "text": [
      "[('translate(0 0)', 'stock'), ('translate(11.760232899999993 -12.297851599999998) rotate(270)', 'part0'), ('translate(12.223722400000021 106.32086950000001) rotate(270)', 'part4'), ('translate(8.247282000000009 88.9164173) rotate(270)', 'part1'), ('translate(-5.295236600000003 82.8470767) rotate(270)', 'part2'), ('translate(118.3693485 93.90854999999999) rotate(180)', 'part5'), ('translate(9.1287737 111.82194589999999) rotate(0)', 'part3')]\n"
     ]
    }
   ],
   "source": [
    "import re\n",
    "svgtext = open(svgnestoutput).read()\n",
    "svgtransforms = re.findall('<g transform=\"(.*?)\"><path id=\"(.*?)\"', svgtext)\n",
    "assert svgtransforms[0] == ('translate(0 0)', 'stock'), svgtransforms[0]\n",
    "#for (svgtransform, partid) in svgtransforms[1:]:\n",
    "print(svgtransforms)\n"
   ]
  },
  {
   "cell_type": "code",
   "execution_count": 21,
   "metadata": {},
   "outputs": [
    {
     "data": {
      "text/plain": [
       "(67.8629379, 35.5110512)"
      ]
     },
     "execution_count": 21,
     "metadata": {},
     "output_type": "execute_result"
    }
   ],
   "source": [
    "m = re.search('class=\"bin\" transform=\"translate\\((.*?) (.*?)\\)\"', svgtext)\n",
    "stocksx, stocksy = float(m.group(1)), float(m.group(2))\n",
    "stocksx, stocksy"
   ]
  },
  {
   "cell_type": "code",
   "execution_count": 18,
   "metadata": {},
   "outputs": [
    {
     "name": "stdout",
     "output_type": "stream",
     "text": [
      "0\n",
      "4\n",
      "1\n",
      "2\n",
      "5\n",
      "3\n"
     ]
    }
   ],
   "source": [
    "import re\n",
    "svgtext = open(svgnestoutput).read()\n",
    "svgtransforms = re.findall('<g transform=\"(.*?)\"><path id=\"(.*?)\"', svgtext)\n",
    "assert svgtransforms[0] == ('translate(0 0)', 'stock'), svgtransforms[0]\n",
    "\n",
    "# actual structure of the stock is to stash a translate component in tail\n",
    "m = re.search('class=\"bin\" transform=\"translate\\((.*?) (.*?)\\)\"', svgtext)\n",
    "stocksx, stocksy = float(m.group(1)), float(m.group(2))\n",
    "\n",
    "for svgtransform, partid in svgtransforms[1:]:\n",
    "    m = re.match('translate\\((.*?) (.*?)\\) rotate\\((.*?)\\)', svgtransform)\n",
    "    sx, sy, rot = float(m.group(1)), float(m.group(2)), float(m.group(3))\n",
    "    i = int(partid[4:])\n",
    "    print(i)\n",
    "    job.Model.Group[i].Placement = Placement(Vector(sx,sy,0), Rotation(rot,0,0))\n"
   ]
  },
  {
   "cell_type": "code",
   "execution_count": 19,
   "metadata": {},
   "outputs": [
    {
     "data": {
      "text/plain": [
       "[<Part::PartFeature>, <Part::PartFeature>, <Part::PartFeature>]"
      ]
     },
     "execution_count": 19,
     "metadata": {},
     "output_type": "execute_result"
    }
   ],
   "source": [
    "job.Model.Group"
   ]
  },
  {
   "cell_type": "code",
   "execution_count": 88,
   "metadata": {},
   "outputs": [],
   "source": [
    "doc.saveCopy(\"test2.fcstd\")"
   ]
  },
  {
   "cell_type": "code",
   "execution_count": null,
   "metadata": {},
   "outputs": [],
   "source": []
  }
 ],
 "metadata": {
  "kernelspec": {
   "display_name": "Python 2",
   "language": "python",
   "name": "python2"
  },
  "language_info": {
   "codemirror_mode": {
    "name": "ipython",
    "version": 2
   },
   "file_extension": ".py",
   "mimetype": "text/x-python",
   "name": "python",
   "nbconvert_exporter": "python",
   "pygments_lexer": "ipython2",
   "version": "2.7.15rc1"
  }
 },
 "nbformat": 4,
 "nbformat_minor": 2
}
